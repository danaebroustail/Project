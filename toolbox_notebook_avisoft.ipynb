{
 "cells": [
  {
   "cell_type": "code",
   "execution_count": 2,
   "metadata": {},
   "outputs": [],
   "source": [
    "import pandas as pd\n",
    "import numpy as np\n",
    "import matplotlib.pyplot as plt\n",
    "import os\n",
    "from DataLoader import DataLoader\n",
    "import datetime\n",
    "import random\n",
    "import warnings\n",
    "from BehaviourFeatureExtractor import BehaviourFeatureExtractor, plot_mouse_angle_to_pup, convert_seconds_to_frame\n",
    "from VocalFeatureExtractor import VocalFeatureExtractor"
   ]
  },
  {
   "cell_type": "markdown",
   "metadata": {},
   "source": [
    "## Reading Avisoft file - initial exploration ##"
   ]
  },
  {
   "cell_type": "code",
   "execution_count": 3,
   "metadata": {},
   "outputs": [
    {
     "name": "stdout",
     "output_type": "stream",
     "text": [
      "Found items ['.DS_Store', 'MBI5335RR'] at directory data\n",
      "Found items ['.DS_Store', 'MBI5335RR_240309_d6', 'MBI5335RR_240305_d2', 'MBI5335RR_240304_d1', 'MBI5335RR_240308_d5', 'MBI5335RR_240306_d3', 'MBI5335RR_240307_d4'] at directory data/MBI5335RR\n",
      "Found items ['MBI5335RR_240309_d6_Avisoft', 'MBI5335RR_240309_d6_Behavior'] at directory data/MBI5335RR/MBI5335RR_240309_d6\n",
      "Found items ['MBI5335RR_240309_d6_Avisoft_concatenated 2024-04-21  2_08 PM_Stats_SYNCCORRECTED.xlsx'] at directory data/MBI5335RR/MBI5335RR_240309_d6/MBI5335RR_240309_d6_Avisoft\n",
      "Found items ['MBI5335RR_d6DLC_resnet50_ESM-maternal-learningJun18shuffle1_100000.csv', 'MBI5335RR_240309_d6_BehavSummary.csv'] at directory data/MBI5335RR/MBI5335RR_240309_d6/MBI5335RR_240309_d6_Behavior\n",
      "Found items ['MBI5335RR_240305_d2_Behavior', 'MBI5335RR_240305_d2_Avisoft'] at directory data/MBI5335RR/MBI5335RR_240305_d2\n",
      "Found items ['MBI5335RR_240305_d2_BehavSummary.csv', 'MBI5335RR_d2DLC_resnet50_ESM-maternal-learningJun18shuffle1_100000.csv'] at directory data/MBI5335RR/MBI5335RR_240305_d2/MBI5335RR_240305_d2_Behavior\n",
      "Found items ['MBI5335RR_240305_d2_Avisoft_concatenated 2024-04-19 11_58 AM_Stats_SYNCCORRECTED.xlsx'] at directory data/MBI5335RR/MBI5335RR_240305_d2/MBI5335RR_240305_d2_Avisoft\n",
      "Found items ['MBI5335RR_240304_d1_Avisoft', '.DS_Store', 'MBI5335RR_240304_d1_Behavior', 'MBI5335RR_d1.mp4'] at directory data/MBI5335RR/MBI5335RR_240304_d1\n",
      "Found items ['T0000001 2024-04-19 11_01 AM_Stats_SYNCCORRECTED.xlsx'] at directory data/MBI5335RR/MBI5335RR_240304_d1/MBI5335RR_240304_d1_Avisoft\n",
      "Found items ['MBI5335RR_d1DLC_resnet50_ESM-maternal-learningJun18shuffle1_100000.csv', 'MBI5335RR_240304_d1_BehavSummary.csv'] at directory data/MBI5335RR/MBI5335RR_240304_d1/MBI5335RR_240304_d1_Behavior\n",
      "Found items ['MBI5335RR_240308_d5_Avisoft', 'MBI5335RR_240308_d5_Behavior'] at directory data/MBI5335RR/MBI5335RR_240308_d5\n",
      "Found items ['T0000001 2024-04-21  1_22 PM_Stats_SYNCCORRECTED.xlsx'] at directory data/MBI5335RR/MBI5335RR_240308_d5/MBI5335RR_240308_d5_Avisoft\n",
      "Found items ['MBI5335RR_d5DLC_resnet50_ESM-maternal-learningJun18shuffle1_100000.csv', 'MBI5335RR_240308_d5_BehavSummary.csv'] at directory data/MBI5335RR/MBI5335RR_240308_d5/MBI5335RR_240308_d5_Behavior\n",
      "Found items ['MBI5335RR_240306_d3_Behavior', 'MBI5335RR_240306_d3_Avisoft'] at directory data/MBI5335RR/MBI5335RR_240306_d3\n",
      "Found items ['MBI5335RR_240306_d3_BehavSummary.csv', 'MBI5335RR_d3DLC_resnet50_ESM-maternal-learningJun18shuffle1_100000.csv'] at directory data/MBI5335RR/MBI5335RR_240306_d3/MBI5335RR_240306_d3_Behavior\n",
      "Found items ['MBI5335RR_240306_d3_Avisoft_concatenated 2024-04-19  1_12 PM_Stats_SYNCCORRECTED.xlsx'] at directory data/MBI5335RR/MBI5335RR_240306_d3/MBI5335RR_240306_d3_Avisoft\n",
      "Found items ['MBI5335RR_240307_d4_Avisoft', 'MBI5335RR_240307_d4_Behavior'] at directory data/MBI5335RR/MBI5335RR_240307_d4\n",
      "Found items ['T0000001 2024-04-21 12_35 PM_Stats_SYNCCORRECTED.xlsx'] at directory data/MBI5335RR/MBI5335RR_240307_d4/MBI5335RR_240307_d4_Avisoft\n",
      "Found items ['MBI5335RR_d4DLC_resnet50_ESM-maternal-learningJun18shuffle1_100000.csv', 'MBI5335RR_240307_d4_BehavSummary.csv'] at directory data/MBI5335RR/MBI5335RR_240307_d4/MBI5335RR_240307_d4_Behavior\n"
     ]
    }
   ],
   "source": [
    "data_dir = \"data\"\n",
    "DL = DataLoader(data_dir, path_to_config_file = \"config.json\")"
   ]
  },
  {
   "cell_type": "markdown",
   "metadata": {},
   "source": [
    "##### Day 1 trials #####"
   ]
  },
  {
   "cell_type": "code",
   "execution_count": 5,
   "metadata": {},
   "outputs": [],
   "source": [
    "# get data for d1 experiment\n",
    "day1_data = DL.get_data_for_experiment(mouse_id = \"MBI5335RR\",\n",
    "                                       day = \"d1\")\n",
    "\n",
    "# fill out dataframes\n",
    "df_summary = day1_data['Behavior']['df_summary']\n",
    "df_DLC = day1_data['Behavior']['df_dlc']\n",
    "df_Avi = day1_data['Avisoft']['df']"
   ]
  },
  {
   "cell_type": "code",
   "execution_count": 12,
   "metadata": {},
   "outputs": [
    {
     "name": "stdout",
     "output_type": "stream",
     "text": [
      "Index(['File', 'ID', 'Label', 'Accepted', 'Score', 'BeginTime_s_',\n",
      "       'EndTime_s_', 'CallLength_s_', 'PrincipalFrequency_kHz_',\n",
      "       'LowFreq_kHz_', 'HighFreq_kHz_', 'DeltaFreq_kHz_',\n",
      "       'FrequencyStandardDeviation_kHz_', 'Slope_kHz_s_', 'Sinuosity',\n",
      "       'MeanPower_dB_Hz_', 'Tonality', 'PeakFreq_kHz_'],\n",
      "      dtype='object')\n",
      "All vocalizations: 290\n"
     ]
    }
   ],
   "source": [
    "print(df_Avi.columns)\n",
    "print(\"All vocalizations:\", len(df_Avi))"
   ]
  },
  {
   "cell_type": "code",
   "execution_count": 13,
   "metadata": {},
   "outputs": [
    {
     "name": "stdout",
     "output_type": "stream",
     "text": [
      "Accepted vocalizations: 230\n"
     ]
    }
   ],
   "source": [
    "df_Avi_USV = df_Avi[df_Avi['Accepted'] == True]\n",
    "\n",
    "print(\"Accepted vocalizations:\", len(df_Avi_USV))"
   ]
  },
  {
   "cell_type": "code",
   "execution_count": 23,
   "metadata": {},
   "outputs": [
    {
     "name": "stderr",
     "output_type": "stream",
     "text": [
      "No artists with labels found to put in legend.  Note that artists whose label start with an underscore are ignored when legend() is called with no argument.\n"
     ]
    },
    {
     "data": {
      "text/plain": [
       "<matplotlib.legend.Legend at 0x7f9f0a56a6d0>"
      ]
     },
     "execution_count": 23,
     "metadata": {},
     "output_type": "execute_result"
    },
    {
     "data": {
      "image/png": "[encoded data removed]",
      "text/plain": [
       "<Figure size 1500x500 with 2 Axes>"
      ]
     },
     "metadata": {},
     "output_type": "display_data"
    }
   ],
   "source": [
    "# histogram for squeak amplitudes\n",
    "amplitude_col = \"PrincipalFrequency_kHz_\"\n",
    "\n",
    "# create 2 figs\n",
    "fig, ax = plt.subplots(1, 2, figsize = (15, 5))\n",
    "\n",
    "df_Avi[amplitude_col].hist(bins = 100, ax = ax[0], label = \"All\")\n",
    "ax[0].set_title(\"Unfiltered\")\n",
    "\n",
    "df_Avi_USV[amplitude_col].hist(bins = 100, ax = ax[0], label = \"Accepted\")\n",
    "\n",
    "plt.legend()"
   ]
  },
  {
   "cell_type": "code",
   "execution_count": null,
   "metadata": {},
   "outputs": [],
   "source": []
  }
 ],
 "metadata": {
  "kernelspec": {
   "display_name": "env",
   "language": "python",
   "name": "python3"
  },
  "language_info": {
   "codemirror_mode": {
    "name": "ipython",
    "version": 3
   },
   "file_extension": ".py",
   "mimetype": "text/x-python",
   "name": "python",
   "nbconvert_exporter": "python",
   "pygments_lexer": "ipython3",
   "version": "3.8.0"
  }
 },
 "nbformat": 4,
 "nbformat_minor": 2
}
