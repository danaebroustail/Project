{
 "cells": [
  {
   "cell_type": "code",
   "execution_count": 1,
   "metadata": {},
   "outputs": [],
   "source": [
    "import pandas as pd\n",
    "import numpy as np\n",
    "import matplotlib.pyplot as plt\n",
    "import os\n",
    "from DataLoader import DataLoader\n",
    "import datetime\n",
    "import random\n",
    "from BehaviourFeatureExtractor import compute_speed, compute_head_angle_to_pup, compute_distance_to_pup, plot_mouse_angle_to_pup"
   ]
  },
  {
   "cell_type": "markdown",
   "metadata": {},
   "source": [
    "## Reading and loading data ##"
   ]
  },
  {
   "cell_type": "code",
   "execution_count": 2,
   "metadata": {},
   "outputs": [
    {
     "name": "stdout",
     "output_type": "stream",
     "text": [
      "Found items ['.DS_Store', 'MBI5335RR'] at directory data\n",
      "Found items ['.DS_Store', 'MBI5335RR_240309_d6', 'MBI5335RR_240305_d2', 'MBI5335RR_240304_d1', 'MBI5335RR_240308_d5', 'MBI5335RR_240306_d3', 'MBI5335RR_240307_d4'] at directory data/MBI5335RR\n",
      "Found items ['MBI5335RR_240309_d6_Avisoft', 'MBI5335RR_240309_d6_Behavior'] at directory data/MBI5335RR/MBI5335RR_240309_d6\n",
      "Found items ['MBI5335RR_240309_d6_Avisoft_concatenated 2024-04-21  2_08 PM_Stats_SYNCCORRECTED.xlsx'] at directory data/MBI5335RR/MBI5335RR_240309_d6/MBI5335RR_240309_d6_Avisoft\n",
      "Found items ['MBI5335RR_d6DLC_resnet50_ESM-maternal-learningJun18shuffle1_100000.csv', 'MBI5335RR_240309_d6_BehavSummary.csv'] at directory data/MBI5335RR/MBI5335RR_240309_d6/MBI5335RR_240309_d6_Behavior\n",
      "Found items ['MBI5335RR_240305_d2_Behavior', 'MBI5335RR_240305_d2_Avisoft'] at directory data/MBI5335RR/MBI5335RR_240305_d2\n",
      "Found items ['MBI5335RR_240305_d2_BehavSummary.csv', 'MBI5335RR_d2DLC_resnet50_ESM-maternal-learningJun18shuffle1_100000.csv'] at directory data/MBI5335RR/MBI5335RR_240305_d2/MBI5335RR_240305_d2_Behavior\n",
      "Found items ['MBI5335RR_240305_d2_Avisoft_concatenated 2024-04-19 11_58 AM_Stats_SYNCCORRECTED.xlsx'] at directory data/MBI5335RR/MBI5335RR_240305_d2/MBI5335RR_240305_d2_Avisoft\n",
      "Found items ['MBI5335RR_240304_d1_Avisoft', 'MBI5335RR_240304_d1_Behavior', 'MBI5335RR_d1.mp4'] at directory data/MBI5335RR/MBI5335RR_240304_d1\n",
      "Found items ['T0000001 2024-04-19 11_01 AM_Stats_SYNCCORRECTED.xlsx'] at directory data/MBI5335RR/MBI5335RR_240304_d1/MBI5335RR_240304_d1_Avisoft\n",
      "Found items ['MBI5335RR_d1DLC_resnet50_ESM-maternal-learningJun18shuffle1_100000.csv', 'MBI5335RR_240304_d1_BehavSummary.csv'] at directory data/MBI5335RR/MBI5335RR_240304_d1/MBI5335RR_240304_d1_Behavior\n",
      "Found items ['MBI5335RR_240308_d5_Avisoft', 'MBI5335RR_240308_d5_Behavior'] at directory data/MBI5335RR/MBI5335RR_240308_d5\n",
      "Found items ['T0000001 2024-04-21  1_22 PM_Stats_SYNCCORRECTED.xlsx'] at directory data/MBI5335RR/MBI5335RR_240308_d5/MBI5335RR_240308_d5_Avisoft\n",
      "Found items ['MBI5335RR_d5DLC_resnet50_ESM-maternal-learningJun18shuffle1_100000.csv', 'MBI5335RR_240308_d5_BehavSummary.csv'] at directory data/MBI5335RR/MBI5335RR_240308_d5/MBI5335RR_240308_d5_Behavior\n",
      "Found items ['MBI5335RR_240306_d3_Behavior', 'MBI5335RR_240306_d3_Avisoft'] at directory data/MBI5335RR/MBI5335RR_240306_d3\n",
      "Found items ['MBI5335RR_240306_d3_BehavSummary.csv', 'MBI5335RR_d3DLC_resnet50_ESM-maternal-learningJun18shuffle1_100000.csv'] at directory data/MBI5335RR/MBI5335RR_240306_d3/MBI5335RR_240306_d3_Behavior\n",
      "Found items ['MBI5335RR_240306_d3_Avisoft_concatenated 2024-04-19  1_12 PM_Stats_SYNCCORRECTED.xlsx'] at directory data/MBI5335RR/MBI5335RR_240306_d3/MBI5335RR_240306_d3_Avisoft\n",
      "Found items ['MBI5335RR_240307_d4_Avisoft', 'MBI5335RR_240307_d4_Behavior'] at directory data/MBI5335RR/MBI5335RR_240307_d4\n",
      "Found items ['T0000001 2024-04-21 12_35 PM_Stats_SYNCCORRECTED.xlsx'] at directory data/MBI5335RR/MBI5335RR_240307_d4/MBI5335RR_240307_d4_Avisoft\n",
      "Found items ['MBI5335RR_d4DLC_resnet50_ESM-maternal-learningJun18shuffle1_100000.csv', 'MBI5335RR_240307_d4_BehavSummary.csv'] at directory data/MBI5335RR/MBI5335RR_240307_d4/MBI5335RR_240307_d4_Behavior\n"
     ]
    }
   ],
   "source": [
    "data_dir = \"data\"\n",
    "DL = DataLoader(data_dir)"
   ]
  },
  {
   "cell_type": "markdown",
   "metadata": {},
   "source": [
    "## Data Exploration ##"
   ]
  },
  {
   "cell_type": "markdown",
   "metadata": {},
   "source": [
    "##### Day 1 trials #####"
   ]
  },
  {
   "cell_type": "code",
   "execution_count": 3,
   "metadata": {},
   "outputs": [],
   "source": [
    "# get data for d1 experiment\n",
    "day1_data = DL.get_data_for_experiment(mouse_id = \"MBI5335RR\",\n",
    "                                       day = \"d1\")\n",
    "\n",
    "# fill out dataframes\n",
    "df_summary = day1_data['Behavior']['df_summary']\n",
    "df_DLC = day1_data['Behavior']['df_dlc']"
   ]
  },
  {
   "cell_type": "code",
   "execution_count": 4,
   "metadata": {},
   "outputs": [
    {
     "data": {
      "text/plain": [
       "<Axes: xlabel='pup_x'>"
      ]
     },
     "execution_count": 4,
     "metadata": {},
     "output_type": "execute_result"
    },
    {
     "data": {
      "image/png": "[encoded data removed]",
      "text/plain": [
       "<Figure size 600x600 with 1 Axes>"
      ]
     },
     "metadata": {},
     "output_type": "display_data"
    }
   ],
   "source": [
    "# create a grid of 1 x 2 plots\n",
    "fig, ax = plt.subplots(1, 1, figsize=(6, 6))\n",
    "\n",
    "ylim = max(df_DLC['msTop_y'].max(), df_DLC['pup_y'].max())\n",
    "xlim = max(df_DLC['msTop_x'].max(), df_DLC['pup_x'].max())\n",
    "\n",
    "# color the points with the time\n",
    "df_DLC.iloc[1000:1500].plot(x='msTop_x', y='msTop_y', style='o', ax=ax, xlim=(0, xlim), ylim=(0, ylim), color = 'r')\n",
    "df_DLC.iloc[1000:1500].plot(x='pup_x', y='pup_y', style='o', ax=ax,xlim=(0, xlim), ylim=(0, ylim), color = 'b')\n"
   ]
  },
  {
   "cell_type": "code",
   "execution_count": 5,
   "metadata": {},
   "outputs": [
    {
     "data": {
      "text/html": [
       "<div>\n",
       "<style scoped>\n",
       "    .dataframe tbody tr th:only-of-type {\n",
       "        vertical-align: middle;\n",
       "    }\n",
       "\n",
       "    .dataframe tbody tr th {\n",
       "        vertical-align: top;\n",
       "    }\n",
       "\n",
       "    .dataframe thead th {\n",
       "        text-align: right;\n",
       "    }\n",
       "</style>\n",
       "<table border=\"1\" class=\"dataframe\">\n",
       "  <thead>\n",
       "    <tr style=\"text-align: right;\">\n",
       "      <th></th>\n",
       "      <th>Group</th>\n",
       "      <th>AnimalID</th>\n",
       "      <th>ExptID</th>\n",
       "      <th>TrialNum</th>\n",
       "      <th>PupDisplPosition</th>\n",
       "      <th>BehavRecdTrialStartSecs</th>\n",
       "      <th>BehavRecdTrialEndSecs</th>\n",
       "      <th>PupDispDropSecs</th>\n",
       "      <th>MouseFirstPickUpPupSecs</th>\n",
       "      <th>DropPupNestSecs</th>\n",
       "      <th>TrialDesignAchieved</th>\n",
       "      <th>EndHabituation</th>\n",
       "      <th>OptoUsed</th>\n",
       "      <th>OptoStartSecs</th>\n",
       "      <th>OptoEndSecs</th>\n",
       "      <th>Features</th>\n",
       "      <th>Notes</th>\n",
       "    </tr>\n",
       "  </thead>\n",
       "  <tbody>\n",
       "    <tr>\n",
       "      <th>0</th>\n",
       "      <td>M</td>\n",
       "      <td>MBI5335RR</td>\n",
       "      <td>d1</td>\n",
       "      <td>1</td>\n",
       "      <td>2</td>\n",
       "      <td>362.042</td>\n",
       "      <td>384.586</td>\n",
       "      <td>369.082</td>\n",
       "      <td>382.266</td>\n",
       "      <td>384.586</td>\n",
       "      <td>1</td>\n",
       "      <td>273.378</td>\n",
       "      <td>0</td>\n",
       "      <td>0</td>\n",
       "      <td>0</td>\n",
       "      <td>0</td>\n",
       "      <td>0</td>\n",
       "    </tr>\n",
       "    <tr>\n",
       "      <th>1</th>\n",
       "      <td>M</td>\n",
       "      <td>MBI5335RR</td>\n",
       "      <td>d1</td>\n",
       "      <td>2</td>\n",
       "      <td>3</td>\n",
       "      <td>390.098</td>\n",
       "      <td>402.842</td>\n",
       "      <td>396.698</td>\n",
       "      <td>399.682</td>\n",
       "      <td>402.842</td>\n",
       "      <td>1</td>\n",
       "      <td>273.378</td>\n",
       "      <td>0</td>\n",
       "      <td>0</td>\n",
       "      <td>0</td>\n",
       "      <td>0</td>\n",
       "      <td>0</td>\n",
       "    </tr>\n",
       "    <tr>\n",
       "      <th>2</th>\n",
       "      <td>M</td>\n",
       "      <td>MBI5335RR</td>\n",
       "      <td>d1</td>\n",
       "      <td>3</td>\n",
       "      <td>1</td>\n",
       "      <td>411.082</td>\n",
       "      <td>494.930</td>\n",
       "      <td>415.186</td>\n",
       "      <td>491.418</td>\n",
       "      <td>494.930</td>\n",
       "      <td>1</td>\n",
       "      <td>273.378</td>\n",
       "      <td>0</td>\n",
       "      <td>0</td>\n",
       "      <td>0</td>\n",
       "      <td>0</td>\n",
       "      <td>0</td>\n",
       "    </tr>\n",
       "  </tbody>\n",
       "</table>\n",
       "</div>"
      ],
      "text/plain": [
       "  Group   AnimalID ExptID  TrialNum  PupDisplPosition  \\\n",
       "0     M  MBI5335RR     d1         1                 2   \n",
       "1     M  MBI5335RR     d1         2                 3   \n",
       "2     M  MBI5335RR     d1         3                 1   \n",
       "\n",
       "   BehavRecdTrialStartSecs  BehavRecdTrialEndSecs  PupDispDropSecs  \\\n",
       "0                  362.042                384.586          369.082   \n",
       "1                  390.098                402.842          396.698   \n",
       "2                  411.082                494.930          415.186   \n",
       "\n",
       "   MouseFirstPickUpPupSecs  DropPupNestSecs  TrialDesignAchieved  \\\n",
       "0                  382.266          384.586                    1   \n",
       "1                  399.682          402.842                    1   \n",
       "2                  491.418          494.930                    1   \n",
       "\n",
       "   EndHabituation  OptoUsed  OptoStartSecs  OptoEndSecs  Features  Notes  \n",
       "0         273.378         0              0            0         0      0  \n",
       "1         273.378         0              0            0         0      0  \n",
       "2         273.378         0              0            0         0      0  "
      ]
     },
     "execution_count": 5,
     "metadata": {},
     "output_type": "execute_result"
    }
   ],
   "source": [
    "df_summary.head(3)\n",
    "# find dtype of each column\n",
    "#df_summary.dtypes"
   ]
  },
  {
   "cell_type": "code",
   "execution_count": 6,
   "metadata": {},
   "outputs": [
    {
     "data": {
      "text/html": [
       "<div>\n",
       "<style scoped>\n",
       "    .dataframe tbody tr th:only-of-type {\n",
       "        vertical-align: middle;\n",
       "    }\n",
       "\n",
       "    .dataframe tbody tr th {\n",
       "        vertical-align: top;\n",
       "    }\n",
       "\n",
       "    .dataframe thead th {\n",
       "        text-align: right;\n",
       "    }\n",
       "</style>\n",
       "<table border=\"1\" class=\"dataframe\">\n",
       "  <thead>\n",
       "    <tr style=\"text-align: right;\">\n",
       "      <th></th>\n",
       "      <th>frame_index</th>\n",
       "      <th>time_seconds</th>\n",
       "      <th>msTop_x</th>\n",
       "      <th>msTop_y</th>\n",
       "      <th>msTop_likelihood</th>\n",
       "      <th>endHeadbar_x</th>\n",
       "      <th>endHeadbar_y</th>\n",
       "      <th>endHeadbar_likelihood</th>\n",
       "      <th>earRight_x</th>\n",
       "      <th>earRight_y</th>\n",
       "      <th>...</th>\n",
       "      <th>tailBase_likelihood</th>\n",
       "      <th>nose_x</th>\n",
       "      <th>nose_y</th>\n",
       "      <th>nose_likelihood</th>\n",
       "      <th>centerNest_x</th>\n",
       "      <th>centerNest_y</th>\n",
       "      <th>centerNest_likelihood</th>\n",
       "      <th>pup_x</th>\n",
       "      <th>pup_y</th>\n",
       "      <th>pup_likelihood</th>\n",
       "    </tr>\n",
       "  </thead>\n",
       "  <tbody>\n",
       "    <tr>\n",
       "      <th>151</th>\n",
       "      <td>151</td>\n",
       "      <td>5.033333</td>\n",
       "      <td>170.865509</td>\n",
       "      <td>89.811813</td>\n",
       "      <td>0.961542</td>\n",
       "      <td>190.735977</td>\n",
       "      <td>79.387955</td>\n",
       "      <td>0.943847</td>\n",
       "      <td>174.400299</td>\n",
       "      <td>80.521759</td>\n",
       "      <td>...</td>\n",
       "      <td>0.811119</td>\n",
       "      <td>169.054947</td>\n",
       "      <td>96.152382</td>\n",
       "      <td>0.965620</td>\n",
       "      <td>204.863220</td>\n",
       "      <td>57.566437</td>\n",
       "      <td>0.910896</td>\n",
       "      <td>477.403198</td>\n",
       "      <td>251.108810</td>\n",
       "      <td>0.074489</td>\n",
       "    </tr>\n",
       "    <tr>\n",
       "      <th>152</th>\n",
       "      <td>152</td>\n",
       "      <td>5.066667</td>\n",
       "      <td>170.884583</td>\n",
       "      <td>89.919662</td>\n",
       "      <td>0.960909</td>\n",
       "      <td>190.975998</td>\n",
       "      <td>79.499725</td>\n",
       "      <td>0.941302</td>\n",
       "      <td>174.574753</td>\n",
       "      <td>80.326324</td>\n",
       "      <td>...</td>\n",
       "      <td>0.806345</td>\n",
       "      <td>168.950119</td>\n",
       "      <td>96.181671</td>\n",
       "      <td>0.965517</td>\n",
       "      <td>204.960968</td>\n",
       "      <td>57.520256</td>\n",
       "      <td>0.904566</td>\n",
       "      <td>477.380341</td>\n",
       "      <td>251.101379</td>\n",
       "      <td>0.074293</td>\n",
       "    </tr>\n",
       "    <tr>\n",
       "      <th>153</th>\n",
       "      <td>153</td>\n",
       "      <td>5.100000</td>\n",
       "      <td>170.883240</td>\n",
       "      <td>90.323051</td>\n",
       "      <td>0.961621</td>\n",
       "      <td>191.376846</td>\n",
       "      <td>80.730232</td>\n",
       "      <td>0.936073</td>\n",
       "      <td>174.205078</td>\n",
       "      <td>80.630722</td>\n",
       "      <td>...</td>\n",
       "      <td>0.751888</td>\n",
       "      <td>169.327026</td>\n",
       "      <td>96.632072</td>\n",
       "      <td>0.967170</td>\n",
       "      <td>205.155075</td>\n",
       "      <td>57.570263</td>\n",
       "      <td>0.890773</td>\n",
       "      <td>477.362000</td>\n",
       "      <td>251.079193</td>\n",
       "      <td>0.073658</td>\n",
       "    </tr>\n",
       "  </tbody>\n",
       "</table>\n",
       "<p>3 rows × 26 columns</p>\n",
       "</div>"
      ],
      "text/plain": [
       "     frame_index  time_seconds     msTop_x    msTop_y  msTop_likelihood  \\\n",
       "151          151      5.033333  170.865509  89.811813          0.961542   \n",
       "152          152      5.066667  170.884583  89.919662          0.960909   \n",
       "153          153      5.100000  170.883240  90.323051          0.961621   \n",
       "\n",
       "     endHeadbar_x  endHeadbar_y  endHeadbar_likelihood  earRight_x  \\\n",
       "151    190.735977     79.387955               0.943847  174.400299   \n",
       "152    190.975998     79.499725               0.941302  174.574753   \n",
       "153    191.376846     80.730232               0.936073  174.205078   \n",
       "\n",
       "     earRight_y  ...  tailBase_likelihood      nose_x     nose_y  \\\n",
       "151   80.521759  ...             0.811119  169.054947  96.152382   \n",
       "152   80.326324  ...             0.806345  168.950119  96.181671   \n",
       "153   80.630722  ...             0.751888  169.327026  96.632072   \n",
       "\n",
       "     nose_likelihood  centerNest_x  centerNest_y  centerNest_likelihood  \\\n",
       "151         0.965620    204.863220     57.566437               0.910896   \n",
       "152         0.965517    204.960968     57.520256               0.904566   \n",
       "153         0.967170    205.155075     57.570263               0.890773   \n",
       "\n",
       "          pup_x       pup_y  pup_likelihood  \n",
       "151  477.403198  251.108810        0.074489  \n",
       "152  477.380341  251.101379        0.074293  \n",
       "153  477.362000  251.079193        0.073658  \n",
       "\n",
       "[3 rows x 26 columns]"
      ]
     },
     "execution_count": 6,
     "metadata": {},
     "output_type": "execute_result"
    }
   ],
   "source": [
    "df_DLC.head(3)\n",
    "#df_DLC[\"time_seconds\"]*30"
   ]
  },
  {
   "cell_type": "markdown",
   "metadata": {},
   "source": [
    "## Feature Extraction ##"
   ]
  },
  {
   "cell_type": "markdown",
   "metadata": {},
   "source": [
    "### BehavSummary + DLC  ###"
   ]
  },
  {
   "cell_type": "markdown",
   "metadata": {},
   "source": [
    "- **BehavSummary + DLC**\n",
    "    - Define behavioral windows (e.g: -2 to +2 seconds of each behavioral event)\n",
    "    - Define behavioral windows pre-event (e.g: -x to 0 seconds of each behavioral event)\n",
    "    - Find behavioral events (from BehavSummaries; *timing info*) in the DLC position data (*x,y info*):\n",
    "        - at each behavioral event, where was the mouse and the pup located in the arena?\n",
    "            - how far was the mouse from the pup?\n",
    "            - what was the head direction of the mouse (towards the pup) at that point?\n",
    "            - ‘approach’ trajectory: parse out trajectory of mouse towards pup and try to find a segment which is more ‘direct’/ higher speed\n",
    "        - For the pre-event behavioral window of MouseFirstPickUpSecs: what is the speed of the mouse? What is the head direction of the mouse?"
   ]
  },
  {
   "cell_type": "code",
   "execution_count": 7,
   "metadata": {},
   "outputs": [
    {
     "name": "stdout",
     "output_type": "stream",
     "text": [
      "384.586 frame index 11537.58 int index 11538\n",
      "369.082 frame index 11072.46 int index 11072\n",
      "382.266 frame index 11467.980000000001 int index 11468\n",
      "384.586 frame index 11537.58 int index 11538\n"
     ]
    }
   ],
   "source": [
    "trial_1 = df_summary[df_summary['TrialNum'] == 1]\n",
    "\n",
    "trial_1\n",
    "\n",
    "BehavRecdTrialEndSecs = trial_1['BehavRecdTrialEndSecs'].values[0]\n",
    "PupDispDropSecs = trial_1['PupDispDropSecs'].values[0]\n",
    "MouseFirstPickUpPupSecs = trial_1['MouseFirstPickUpPupSecs'].values[0]\n",
    "DropPupNestSecs = trial_1['DropPupNestSecs'].values[0]\n",
    " \n",
    " # print all the times\n",
    "print(BehavRecdTrialEndSecs, \"frame index\", BehavRecdTrialEndSecs*30, \"int index\", round(BehavRecdTrialEndSecs*30))\n",
    "print(PupDispDropSecs, \"frame index\", PupDispDropSecs*30,\"int index\", round(PupDispDropSecs*30))\n",
    "print(MouseFirstPickUpPupSecs, \"frame index\", MouseFirstPickUpPupSecs*30,\"int index\", round(MouseFirstPickUpPupSecs*30))\n",
    "print(DropPupNestSecs, \"frame index\", DropPupNestSecs*30,\"int index\", round(DropPupNestSecs*30))\n",
    "\n",
    "# compute frame indices by rounding\n",
    "BehavRecdTrialEndSecs_frame = round(BehavRecdTrialEndSecs*30)\n",
    "PupDispDropSecs_frame = round(PupDispDropSecs*30)\n",
    "MouseFirstPickUpPupSecs_frame = round(MouseFirstPickUpPupSecs*30)\n",
    "DropPupNestSecs_frame = round(DropPupNestSecs*30)"
   ]
  },
  {
   "cell_type": "code",
   "execution_count": 8,
   "metadata": {},
   "outputs": [
    {
     "name": "stdout",
     "output_type": "stream",
     "text": [
      "Start time in seconds: 0:06:22.600000\n",
      "End time in seconds: 0:06:24.600000\n"
     ]
    },
    {
     "name": "stderr",
     "output_type": "stream",
     "text": [
      "/var/folders/ss/2547pfrs2tv5kkvqzk0wydg00000gn/T/ipykernel_18440/4221367034.py:11: UserWarning: Boolean Series key will be reindexed to match DataFrame index.\n",
      "  trial_1_DLC = df_DLC[df_DLC['frame_index'] >= start_frame_window][df_DLC['frame_index'] <= end_frame_window]\n"
     ]
    }
   ],
   "source": [
    "# 2s is 60 frames\n",
    "window_size = 60\n",
    "start_frame_window = BehavRecdTrialEndSecs_frame - window_size\n",
    "end_frame_window = BehavRecdTrialEndSecs_frame\n",
    "\n",
    "# print corresponding time in minutes\n",
    "print(\"Start time in seconds:\", str(datetime.timedelta(seconds=start_frame_window/30)))\n",
    "print(\"End time in seconds:\", str(datetime.timedelta(seconds=end_frame_window/30)))\n",
    "\n",
    "# look at the dataframe with frame_index within in the window\n",
    "trial_1_DLC = df_DLC[df_DLC['frame_index'] >= start_frame_window][df_DLC['frame_index'] <= end_frame_window]"
   ]
  },
  {
   "cell_type": "code",
   "execution_count": 9,
   "metadata": {},
   "outputs": [
    {
     "data": {
      "text/plain": [
       "<Axes: xlabel='pup_x'>"
      ]
     },
     "execution_count": 9,
     "metadata": {},
     "output_type": "execute_result"
    },
    {
     "data": {
      "image/png": "[encoded data removed]",
      "text/plain": [
       "<Figure size 600x600 with 1 Axes>"
      ]
     },
     "metadata": {},
     "output_type": "display_data"
    }
   ],
   "source": [
    "# plot mouse and pup positions\n",
    "fig, ax = plt.subplots(1, 1, figsize=(6, 6))\n",
    "\n",
    "xlim, ylim =  max(df_DLC['msTop_x'].max(), df_DLC['pup_x'].max()), max(df_DLC['msTop_y'].max(), df_DLC['pup_y'].max())\n",
    "\n",
    "trial_1_DLC.plot(x='msTop_x', y='msTop_y', style='o', ax=ax, xlim=(0, xlim), ylim=(0, ylim), color = 'r')\n",
    "trial_1_DLC.plot(x='pup_x', y='pup_y', style='o', ax=ax,xlim=(0, xlim), ylim=(0, ylim), color = 'b')"
   ]
  },
  {
   "cell_type": "markdown",
   "metadata": {},
   "source": [
    "Speed"
   ]
  },
  {
   "cell_type": "code",
   "execution_count": 10,
   "metadata": {},
   "outputs": [
    {
     "name": "stdout",
     "output_type": "stream",
     "text": [
      "Max speed: 241.5519362383066 Frame index: 11520.0 Time in minutes: 0:06:24\n"
     ]
    },
    {
     "data": {
      "image/png": "[encoded data removed]",
      "text/plain": [
       "<Figure size 640x480 with 1 Axes>"
      ]
     },
     "metadata": {},
     "output_type": "display_data"
    }
   ],
   "source": [
    "trial_1_DLC = compute_speed(trial_1_DLC)\n",
    "\n",
    "# histogram of speed\n",
    "trial_1_DLC['speed_cm/s'].hist()\n",
    "\n",
    "# find point at which max speed is reached\n",
    "max_speed = trial_1_DLC['speed_cm/s'].max()\n",
    "max_speed_index = trial_1_DLC['speed_cm/s'].idxmax()\n",
    "\n",
    "# find frame index and actual time in minutes\n",
    "max_speed_frame_index = trial_1_DLC.loc[max_speed_index]['frame_index']\n",
    "max_speed_time = trial_1_DLC.loc[max_speed_index]['time_seconds']\n",
    "print(\"Max speed:\", max_speed, \"Frame index:\", max_speed_frame_index, \"Time in minutes:\", str(datetime.timedelta(seconds=max_speed_time)))"
   ]
  },
  {
   "cell_type": "markdown",
   "metadata": {},
   "source": [
    "Distance to pup"
   ]
  },
  {
   "cell_type": "code",
   "execution_count": 11,
   "metadata": {},
   "outputs": [
    {
     "data": {
      "text/plain": [
       "<Axes: >"
      ]
     },
     "execution_count": 11,
     "metadata": {},
     "output_type": "execute_result"
    },
    {
     "data": {
      "image/png": "[encoded data removed]",
      "text/plain": [
       "<Figure size 640x480 with 1 Axes>"
      ]
     },
     "metadata": {},
     "output_type": "display_data"
    }
   ],
   "source": [
    "trial_1_DLC = compute_distance_to_pup(trial_1_DLC)\n",
    "\n",
    "trial_1_DLC[\"distance_to_pup\"].hist(bins=20)"
   ]
  },
  {
   "cell_type": "markdown",
   "metadata": {},
   "source": [
    "Head angle to pup"
   ]
  },
  {
   "cell_type": "code",
   "execution_count": 12,
   "metadata": {},
   "outputs": [
    {
     "data": {
      "text/plain": [
       "<Axes: >"
      ]
     },
     "execution_count": 12,
     "metadata": {},
     "output_type": "execute_result"
    },
    {
     "data": {
      "image/png": "[encoded data removed]",
      "text/plain": [
       "<Figure size 640x480 with 1 Axes>"
      ]
     },
     "metadata": {},
     "output_type": "display_data"
    }
   ],
   "source": [
    "trial_1_DLC = compute_head_angle_to_pup(trial_1_DLC, add_vector_columns = True)\n",
    "\n",
    "trial_1_DLC[\"head_angle_to_pup_degrees\"].hist(bins=20)"
   ]
  },
  {
   "cell_type": "markdown",
   "metadata": {},
   "source": [
    "Visualize head angle to pup"
   ]
  },
  {
   "cell_type": "code",
   "execution_count": 14,
   "metadata": {},
   "outputs": [
    {
     "name": "stderr",
     "output_type": "stream",
     "text": [
      "/Users/danaebroustail/Desktop/INI Project/Repos/Project/BehaviourFeatureExtractor.py:91: UserWarning: color is redundantly defined by the 'color' keyword argument and the fmt string \"k-\" (-> color='k'). The keyword argument will take precedence.\n",
      "  ax.plot([trial_1_DLC_frame['nose_x'].values[0], trial_1_DLC_frame['between_ears_x'].values[0]],\n",
      "/Users/danaebroustail/Desktop/INI Project/Repos/Project/BehaviourFeatureExtractor.py:95: UserWarning: color is redundantly defined by the 'color' keyword argument and the fmt string \"k-\" (-> color='k'). The keyword argument will take precedence.\n",
      "  ax.plot([trial_1_DLC_frame['between_ears_x'].values[0], trial_1_DLC_frame['pup_x'].values[0]],\n"
     ]
    },
    {
     "data": {
      "image/png": "[encoded data removed]",
      "text/plain": [
       "<Figure size 600x600 with 1 Axes>"
      ]
     },
     "metadata": {},
     "output_type": "display_data"
    }
   ],
   "source": [
    "plot_mouse_angle_to_pup(trial_1_DLC)"
   ]
  },
  {
   "cell_type": "code",
   "execution_count": null,
   "metadata": {},
   "outputs": [],
   "source": []
  }
 ],
 "metadata": {
  "kernelspec": {
   "display_name": "env",
   "language": "python",
   "name": "python3"
  },
  "language_info": {
   "codemirror_mode": {
    "name": "ipython",
    "version": 3
   },
   "file_extension": ".py",
   "mimetype": "text/x-python",
   "name": "python",
   "nbconvert_exporter": "python",
   "pygments_lexer": "ipython3",
   "version": "3.8.0"
  }
 },
 "nbformat": 4,
 "nbformat_minor": 2
}
