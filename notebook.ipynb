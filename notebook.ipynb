{
 "cells": [
  {
   "cell_type": "code",
   "execution_count": 1,
   "metadata": {},
   "outputs": [],
   "source": [
    "import pandas as pd\n",
    "import numpy as np\n",
    "import matplotlib.pyplot as plt\n",
    "import os\n",
    "from DataLoader import DataLoader\n",
    "import datetime\n",
    "import random\n",
    "import warnings\n",
    "from BehaviourFeatureExtractor import compute_speed, compute_head_angle_to_pup, compute_distance_to_pup, plot_mouse_angle_to_pup"
   ]
  },
  {
   "cell_type": "markdown",
   "metadata": {},
   "source": [
    "## Reading and loading data ##"
   ]
  },
  {
   "cell_type": "code",
   "execution_count": 2,
   "metadata": {},
   "outputs": [
    {
     "name": "stdout",
     "output_type": "stream",
     "text": [
      "Found items ['.DS_Store', 'MBI5335RR'] at directory data\n",
      "Found items ['.DS_Store', 'MBI5335RR_240309_d6', 'MBI5335RR_240305_d2', 'MBI5335RR_240304_d1', 'MBI5335RR_240308_d5', 'MBI5335RR_240306_d3', 'MBI5335RR_240307_d4'] at directory data/MBI5335RR\n",
      "Found items ['MBI5335RR_240309_d6_Avisoft', 'MBI5335RR_240309_d6_Behavior'] at directory data/MBI5335RR/MBI5335RR_240309_d6\n",
      "Found items ['MBI5335RR_240309_d6_Avisoft_concatenated 2024-04-21  2_08 PM_Stats_SYNCCORRECTED.xlsx'] at directory data/MBI5335RR/MBI5335RR_240309_d6/MBI5335RR_240309_d6_Avisoft\n",
      "Found items ['MBI5335RR_d6DLC_resnet50_ESM-maternal-learningJun18shuffle1_100000.csv', 'MBI5335RR_240309_d6_BehavSummary.csv'] at directory data/MBI5335RR/MBI5335RR_240309_d6/MBI5335RR_240309_d6_Behavior\n",
      "Found items ['MBI5335RR_240305_d2_Behavior', 'MBI5335RR_240305_d2_Avisoft'] at directory data/MBI5335RR/MBI5335RR_240305_d2\n",
      "Found items ['MBI5335RR_240305_d2_BehavSummary.csv', 'MBI5335RR_d2DLC_resnet50_ESM-maternal-learningJun18shuffle1_100000.csv'] at directory data/MBI5335RR/MBI5335RR_240305_d2/MBI5335RR_240305_d2_Behavior\n",
      "Found items ['MBI5335RR_240305_d2_Avisoft_concatenated 2024-04-19 11_58 AM_Stats_SYNCCORRECTED.xlsx'] at directory data/MBI5335RR/MBI5335RR_240305_d2/MBI5335RR_240305_d2_Avisoft\n",
      "Found items ['MBI5335RR_240304_d1_Avisoft', 'MBI5335RR_240304_d1_Behavior', 'MBI5335RR_d1.mp4'] at directory data/MBI5335RR/MBI5335RR_240304_d1\n",
      "Found items ['T0000001 2024-04-19 11_01 AM_Stats_SYNCCORRECTED.xlsx'] at directory data/MBI5335RR/MBI5335RR_240304_d1/MBI5335RR_240304_d1_Avisoft\n",
      "Found items ['MBI5335RR_d1DLC_resnet50_ESM-maternal-learningJun18shuffle1_100000.csv', 'MBI5335RR_240304_d1_BehavSummary.csv'] at directory data/MBI5335RR/MBI5335RR_240304_d1/MBI5335RR_240304_d1_Behavior\n",
      "Found items ['MBI5335RR_240308_d5_Avisoft', 'MBI5335RR_240308_d5_Behavior'] at directory data/MBI5335RR/MBI5335RR_240308_d5\n",
      "Found items ['T0000001 2024-04-21  1_22 PM_Stats_SYNCCORRECTED.xlsx'] at directory data/MBI5335RR/MBI5335RR_240308_d5/MBI5335RR_240308_d5_Avisoft\n",
      "Found items ['MBI5335RR_d5DLC_resnet50_ESM-maternal-learningJun18shuffle1_100000.csv', 'MBI5335RR_240308_d5_BehavSummary.csv'] at directory data/MBI5335RR/MBI5335RR_240308_d5/MBI5335RR_240308_d5_Behavior\n",
      "Found items ['MBI5335RR_240306_d3_Behavior', 'MBI5335RR_240306_d3_Avisoft'] at directory data/MBI5335RR/MBI5335RR_240306_d3\n",
      "Found items ['MBI5335RR_240306_d3_BehavSummary.csv', 'MBI5335RR_d3DLC_resnet50_ESM-maternal-learningJun18shuffle1_100000.csv'] at directory data/MBI5335RR/MBI5335RR_240306_d3/MBI5335RR_240306_d3_Behavior\n",
      "Found items ['MBI5335RR_240306_d3_Avisoft_concatenated 2024-04-19  1_12 PM_Stats_SYNCCORRECTED.xlsx'] at directory data/MBI5335RR/MBI5335RR_240306_d3/MBI5335RR_240306_d3_Avisoft\n",
      "Found items ['MBI5335RR_240307_d4_Avisoft', 'MBI5335RR_240307_d4_Behavior'] at directory data/MBI5335RR/MBI5335RR_240307_d4\n",
      "Found items ['T0000001 2024-04-21 12_35 PM_Stats_SYNCCORRECTED.xlsx'] at directory data/MBI5335RR/MBI5335RR_240307_d4/MBI5335RR_240307_d4_Avisoft\n",
      "Found items ['MBI5335RR_d4DLC_resnet50_ESM-maternal-learningJun18shuffle1_100000.csv', 'MBI5335RR_240307_d4_BehavSummary.csv'] at directory data/MBI5335RR/MBI5335RR_240307_d4/MBI5335RR_240307_d4_Behavior\n"
     ]
    }
   ],
   "source": [
    "data_dir = \"data\"\n",
    "DL = DataLoader(data_dir)"
   ]
  },
  {
   "cell_type": "markdown",
   "metadata": {},
   "source": [
    "## Data Exploration ##"
   ]
  },
  {
   "cell_type": "markdown",
   "metadata": {},
   "source": [
    "##### Day 1 trials #####"
   ]
  },
  {
   "cell_type": "code",
   "execution_count": 3,
   "metadata": {},
   "outputs": [],
   "source": [
    "# get data for d1 experiment\n",
    "day1_data = DL.get_data_for_experiment(mouse_id = \"MBI5335RR\",\n",
    "                                       day = \"d1\")\n",
    "\n",
    "# fill out dataframes\n",
    "df_summary = day1_data['Behavior']['df_summary']\n",
    "df_DLC = day1_data['Behavior']['df_dlc']"
   ]
  },
  {
   "cell_type": "code",
   "execution_count": 4,
   "metadata": {},
   "outputs": [
    {
     "data": {
      "text/plain": [
       "<Axes: xlabel='pup_x'>"
      ]
     },
     "execution_count": 4,
     "metadata": {},
     "output_type": "execute_result"
    },
    {
     "data": {
      "image/png": "[encoded data removed]",
      "text/plain": [
       "<Figure size 600x600 with 1 Axes>"
      ]
     },
     "metadata": {},
     "output_type": "display_data"
    }
   ],
   "source": [
    "# create a grid of 1 x 2 plots\n",
    "fig, ax = plt.subplots(1, 1, figsize=(6, 6))\n",
    "\n",
    "ylim = max(df_DLC['msTop_y'].max(), df_DLC['pup_y'].max())\n",
    "xlim = max(df_DLC['msTop_x'].max(), df_DLC['pup_x'].max())\n",
    "\n",
    "# color the points with the time\n",
    "df_DLC.iloc[1000:1500].plot(x='msTop_x', y='msTop_y', style='o', ax=ax, xlim=(0, xlim), ylim=(0, ylim), color = 'r')\n",
    "df_DLC.iloc[1000:1500].plot(x='pup_x', y='pup_y', style='o', ax=ax,xlim=(0, xlim), ylim=(0, ylim), color = 'b')\n"
   ]
  },
  {
   "cell_type": "code",
   "execution_count": 5,
   "metadata": {},
   "outputs": [
    {
     "data": {
      "text/html": [
       "<div>\n",
       "<style scoped>\n",
       "    .dataframe tbody tr th:only-of-type {\n",
       "        vertical-align: middle;\n",
       "    }\n",
       "\n",
       "    .dataframe tbody tr th {\n",
       "        vertical-align: top;\n",
       "    }\n",
       "\n",
       "    .dataframe thead th {\n",
       "        text-align: right;\n",
       "    }\n",
       "</style>\n",
       "<table border=\"1\" class=\"dataframe\">\n",
       "  <thead>\n",
       "    <tr style=\"text-align: right;\">\n",
       "      <th></th>\n",
       "      <th>Group</th>\n",
       "      <th>AnimalID</th>\n",
       "      <th>ExptID</th>\n",
       "      <th>TrialNum</th>\n",
       "      <th>PupDisplPosition</th>\n",
       "      <th>BehavRecdTrialStartSecs</th>\n",
       "      <th>BehavRecdTrialEndSecs</th>\n",
       "      <th>PupDispDropSecs</th>\n",
       "      <th>MouseFirstPickUpPupSecs</th>\n",
       "      <th>DropPupNestSecs</th>\n",
       "      <th>TrialDesignAchieved</th>\n",
       "      <th>EndHabituation</th>\n",
       "      <th>OptoUsed</th>\n",
       "      <th>OptoStartSecs</th>\n",
       "      <th>OptoEndSecs</th>\n",
       "      <th>Features</th>\n",
       "      <th>Notes</th>\n",
       "    </tr>\n",
       "  </thead>\n",
       "  <tbody>\n",
       "    <tr>\n",
       "      <th>0</th>\n",
       "      <td>M</td>\n",
       "      <td>MBI5335RR</td>\n",
       "      <td>d1</td>\n",
       "      <td>1</td>\n",
       "      <td>2</td>\n",
       "      <td>362.042</td>\n",
       "      <td>384.586</td>\n",
       "      <td>369.082</td>\n",
       "      <td>382.266</td>\n",
       "      <td>384.586</td>\n",
       "      <td>1</td>\n",
       "      <td>273.378</td>\n",
       "      <td>0</td>\n",
       "      <td>0</td>\n",
       "      <td>0</td>\n",
       "      <td>0</td>\n",
       "      <td>0</td>\n",
       "    </tr>\n",
       "    <tr>\n",
       "      <th>1</th>\n",
       "      <td>M</td>\n",
       "      <td>MBI5335RR</td>\n",
       "      <td>d1</td>\n",
       "      <td>2</td>\n",
       "      <td>3</td>\n",
       "      <td>390.098</td>\n",
       "      <td>402.842</td>\n",
       "      <td>396.698</td>\n",
       "      <td>399.682</td>\n",
       "      <td>402.842</td>\n",
       "      <td>1</td>\n",
       "      <td>273.378</td>\n",
       "      <td>0</td>\n",
       "      <td>0</td>\n",
       "      <td>0</td>\n",
       "      <td>0</td>\n",
       "      <td>0</td>\n",
       "    </tr>\n",
       "    <tr>\n",
       "      <th>2</th>\n",
       "      <td>M</td>\n",
       "      <td>MBI5335RR</td>\n",
       "      <td>d1</td>\n",
       "      <td>3</td>\n",
       "      <td>1</td>\n",
       "      <td>411.082</td>\n",
       "      <td>494.930</td>\n",
       "      <td>415.186</td>\n",
       "      <td>491.418</td>\n",
       "      <td>494.930</td>\n",
       "      <td>1</td>\n",
       "      <td>273.378</td>\n",
       "      <td>0</td>\n",
       "      <td>0</td>\n",
       "      <td>0</td>\n",
       "      <td>0</td>\n",
       "      <td>0</td>\n",
       "    </tr>\n",
       "  </tbody>\n",
       "</table>\n",
       "</div>"
      ],
      "text/plain": [
       "  Group   AnimalID ExptID  TrialNum  PupDisplPosition  \\\n",
       "0     M  MBI5335RR     d1         1                 2   \n",
       "1     M  MBI5335RR     d1         2                 3   \n",
       "2     M  MBI5335RR     d1         3                 1   \n",
       "\n",
       "   BehavRecdTrialStartSecs  BehavRecdTrialEndSecs  PupDispDropSecs  \\\n",
       "0                  362.042                384.586          369.082   \n",
       "1                  390.098                402.842          396.698   \n",
       "2                  411.082                494.930          415.186   \n",
       "\n",
       "   MouseFirstPickUpPupSecs  DropPupNestSecs  TrialDesignAchieved  \\\n",
       "0                  382.266          384.586                    1   \n",
       "1                  399.682          402.842                    1   \n",
       "2                  491.418          494.930                    1   \n",
       "\n",
       "   EndHabituation  OptoUsed  OptoStartSecs  OptoEndSecs  Features  Notes  \n",
       "0         273.378         0              0            0         0      0  \n",
       "1         273.378         0              0            0         0      0  \n",
       "2         273.378         0              0            0         0      0  "
      ]
     },
     "execution_count": 5,
     "metadata": {},
     "output_type": "execute_result"
    }
   ],
   "source": [
    "df_summary.head(3)\n",
    "# find dtype of each column\n",
    "#df_summary.dtypes"
   ]
  },
  {
   "cell_type": "code",
   "execution_count": 6,
   "metadata": {},
   "outputs": [
    {
     "data": {
      "text/html": [
       "<div>\n",
       "<style scoped>\n",
       "    .dataframe tbody tr th:only-of-type {\n",
       "        vertical-align: middle;\n",
       "    }\n",
       "\n",
       "    .dataframe tbody tr th {\n",
       "        vertical-align: top;\n",
       "    }\n",
       "\n",
       "    .dataframe thead th {\n",
       "        text-align: right;\n",
       "    }\n",
       "</style>\n",
       "<table border=\"1\" class=\"dataframe\">\n",
       "  <thead>\n",
       "    <tr style=\"text-align: right;\">\n",
       "      <th></th>\n",
       "      <th>frame_index</th>\n",
       "      <th>time_seconds</th>\n",
       "      <th>msTop_x</th>\n",
       "      <th>msTop_y</th>\n",
       "      <th>msTop_likelihood</th>\n",
       "      <th>endHeadbar_x</th>\n",
       "      <th>endHeadbar_y</th>\n",
       "      <th>endHeadbar_likelihood</th>\n",
       "      <th>earRight_x</th>\n",
       "      <th>earRight_y</th>\n",
       "      <th>...</th>\n",
       "      <th>tailBase_likelihood</th>\n",
       "      <th>nose_x</th>\n",
       "      <th>nose_y</th>\n",
       "      <th>nose_likelihood</th>\n",
       "      <th>centerNest_x</th>\n",
       "      <th>centerNest_y</th>\n",
       "      <th>centerNest_likelihood</th>\n",
       "      <th>pup_x</th>\n",
       "      <th>pup_y</th>\n",
       "      <th>pup_likelihood</th>\n",
       "    </tr>\n",
       "  </thead>\n",
       "  <tbody>\n",
       "    <tr>\n",
       "      <th>151</th>\n",
       "      <td>151</td>\n",
       "      <td>5.033333</td>\n",
       "      <td>170.865509</td>\n",
       "      <td>89.811813</td>\n",
       "      <td>0.961542</td>\n",
       "      <td>190.735977</td>\n",
       "      <td>79.387955</td>\n",
       "      <td>0.943847</td>\n",
       "      <td>174.400299</td>\n",
       "      <td>80.521759</td>\n",
       "      <td>...</td>\n",
       "      <td>0.811119</td>\n",
       "      <td>169.054947</td>\n",
       "      <td>96.152382</td>\n",
       "      <td>0.965620</td>\n",
       "      <td>204.863220</td>\n",
       "      <td>57.566437</td>\n",
       "      <td>0.910896</td>\n",
       "      <td>477.403198</td>\n",
       "      <td>251.108810</td>\n",
       "      <td>0.074489</td>\n",
       "    </tr>\n",
       "    <tr>\n",
       "      <th>152</th>\n",
       "      <td>152</td>\n",
       "      <td>5.066667</td>\n",
       "      <td>170.884583</td>\n",
       "      <td>89.919662</td>\n",
       "      <td>0.960909</td>\n",
       "      <td>190.975998</td>\n",
       "      <td>79.499725</td>\n",
       "      <td>0.941302</td>\n",
       "      <td>174.574753</td>\n",
       "      <td>80.326324</td>\n",
       "      <td>...</td>\n",
       "      <td>0.806345</td>\n",
       "      <td>168.950119</td>\n",
       "      <td>96.181671</td>\n",
       "      <td>0.965517</td>\n",
       "      <td>204.960968</td>\n",
       "      <td>57.520256</td>\n",
       "      <td>0.904566</td>\n",
       "      <td>477.380341</td>\n",
       "      <td>251.101379</td>\n",
       "      <td>0.074293</td>\n",
       "    </tr>\n",
       "    <tr>\n",
       "      <th>153</th>\n",
       "      <td>153</td>\n",
       "      <td>5.100000</td>\n",
       "      <td>170.883240</td>\n",
       "      <td>90.323051</td>\n",
       "      <td>0.961621</td>\n",
       "      <td>191.376846</td>\n",
       "      <td>80.730232</td>\n",
       "      <td>0.936073</td>\n",
       "      <td>174.205078</td>\n",
       "      <td>80.630722</td>\n",
       "      <td>...</td>\n",
       "      <td>0.751888</td>\n",
       "      <td>169.327026</td>\n",
       "      <td>96.632072</td>\n",
       "      <td>0.967170</td>\n",
       "      <td>205.155075</td>\n",
       "      <td>57.570263</td>\n",
       "      <td>0.890773</td>\n",
       "      <td>477.362000</td>\n",
       "      <td>251.079193</td>\n",
       "      <td>0.073658</td>\n",
       "    </tr>\n",
       "  </tbody>\n",
       "</table>\n",
       "<p>3 rows × 26 columns</p>\n",
       "</div>"
      ],
      "text/plain": [
       "     frame_index  time_seconds     msTop_x    msTop_y  msTop_likelihood  \\\n",
       "151          151      5.033333  170.865509  89.811813          0.961542   \n",
       "152          152      5.066667  170.884583  89.919662          0.960909   \n",
       "153          153      5.100000  170.883240  90.323051          0.961621   \n",
       "\n",
       "     endHeadbar_x  endHeadbar_y  endHeadbar_likelihood  earRight_x  \\\n",
       "151    190.735977     79.387955               0.943847  174.400299   \n",
       "152    190.975998     79.499725               0.941302  174.574753   \n",
       "153    191.376846     80.730232               0.936073  174.205078   \n",
       "\n",
       "     earRight_y  ...  tailBase_likelihood      nose_x     nose_y  \\\n",
       "151   80.521759  ...             0.811119  169.054947  96.152382   \n",
       "152   80.326324  ...             0.806345  168.950119  96.181671   \n",
       "153   80.630722  ...             0.751888  169.327026  96.632072   \n",
       "\n",
       "     nose_likelihood  centerNest_x  centerNest_y  centerNest_likelihood  \\\n",
       "151         0.965620    204.863220     57.566437               0.910896   \n",
       "152         0.965517    204.960968     57.520256               0.904566   \n",
       "153         0.967170    205.155075     57.570263               0.890773   \n",
       "\n",
       "          pup_x       pup_y  pup_likelihood  \n",
       "151  477.403198  251.108810        0.074489  \n",
       "152  477.380341  251.101379        0.074293  \n",
       "153  477.362000  251.079193        0.073658  \n",
       "\n",
       "[3 rows x 26 columns]"
      ]
     },
     "execution_count": 6,
     "metadata": {},
     "output_type": "execute_result"
    }
   ],
   "source": [
    "df_DLC.head(3)\n",
    "#df_DLC[\"time_seconds\"]*30"
   ]
  },
  {
   "cell_type": "markdown",
   "metadata": {},
   "source": [
    "## Feature Extraction ##"
   ]
  },
  {
   "cell_type": "markdown",
   "metadata": {},
   "source": [
    "### BehavSummary + DLC  ###"
   ]
  },
  {
   "cell_type": "markdown",
   "metadata": {},
   "source": [
    "- **BehavSummary + DLC**\n",
    "    - Define behavioral windows (e.g: -2 to +2 seconds of each behavioral event)\n",
    "    - Define behavioral windows pre-event (e.g: -x to 0 seconds of each behavioral event)\n",
    "    - Find behavioral events (from BehavSummaries; *timing info*) in the DLC position data (*x,y info*):\n",
    "        - at each behavioral event, where was the mouse and the pup located in the arena?\n",
    "            - how far was the mouse from the pup?\n",
    "            - what was the head direction of the mouse (towards the pup) at that point?\n",
    "            - ‘approach’ trajectory: parse out trajectory of mouse towards pup and try to find a segment which is more ‘direct’/ higher speed\n",
    "        - For the pre-event behavioral window of MouseFirstPickUpSecs: what is the speed of the mouse? What is the head direction of the mouse?"
   ]
  },
  {
   "cell_type": "code",
   "execution_count": 7,
   "metadata": {},
   "outputs": [
    {
     "name": "stdout",
     "output_type": "stream",
     "text": [
      "384.586 frame index 11537.58 int index 11538\n",
      "369.082 frame index 11072.46 int index 11072\n",
      "382.266 frame index 11467.980000000001 int index 11468\n",
      "384.586 frame index 11537.58 int index 11538\n"
     ]
    }
   ],
   "source": [
    "trial_1 = df_summary[df_summary['TrialNum'] == 1]\n",
    "\n",
    "trial_1\n",
    "\n",
    "BehavRecdTrialEndSecs = trial_1['BehavRecdTrialEndSecs'].values[0]\n",
    "PupDispDropSecs = trial_1['PupDispDropSecs'].values[0]\n",
    "MouseFirstPickUpPupSecs = trial_1['MouseFirstPickUpPupSecs'].values[0]\n",
    "DropPupNestSecs = trial_1['DropPupNestSecs'].values[0]\n",
    " \n",
    " # print all the times\n",
    "print(BehavRecdTrialEndSecs, \"frame index\", BehavRecdTrialEndSecs*30, \"int index\", round(BehavRecdTrialEndSecs*30))\n",
    "print(PupDispDropSecs, \"frame index\", PupDispDropSecs*30,\"int index\", round(PupDispDropSecs*30))\n",
    "print(MouseFirstPickUpPupSecs, \"frame index\", MouseFirstPickUpPupSecs*30,\"int index\", round(MouseFirstPickUpPupSecs*30))\n",
    "print(DropPupNestSecs, \"frame index\", DropPupNestSecs*30,\"int index\", round(DropPupNestSecs*30))\n",
    "\n",
    "# compute frame indices by rounding\n",
    "BehavRecdTrialEndSecs_frame = round(BehavRecdTrialEndSecs*30)\n",
    "PupDispDropSecs_frame = round(PupDispDropSecs*30)\n",
    "MouseFirstPickUpPupSecs_frame = round(MouseFirstPickUpPupSecs*30)\n",
    "DropPupNestSecs_frame = round(DropPupNestSecs*30)"
   ]
  },
  {
   "cell_type": "code",
   "execution_count": 8,
   "metadata": {},
   "outputs": [
    {
     "name": "stdout",
     "output_type": "stream",
     "text": [
      "Start time in seconds: 0:06:22.600000\n",
      "End time in seconds: 0:06:24.600000\n"
     ]
    }
   ],
   "source": [
    "# 2s is 60 frames\n",
    "window_size = 60\n",
    "start_frame_window = BehavRecdTrialEndSecs_frame - window_size\n",
    "end_frame_window = BehavRecdTrialEndSecs_frame\n",
    "\n",
    "# print corresponding time in minutes\n",
    "print(\"Start time in seconds:\", str(datetime.timedelta(seconds=start_frame_window/30)))\n",
    "print(\"End time in seconds:\", str(datetime.timedelta(seconds=end_frame_window/30)))\n",
    "\n",
    "# look at the dataframe with frame_index within in the window\n",
    "mask = (df_DLC['frame_index'] >= start_frame_window) & (df_DLC['frame_index'] <= end_frame_window)\n",
    "trial_1_DLC = df_DLC[mask]"
   ]
  },
  {
   "cell_type": "code",
   "execution_count": 9,
   "metadata": {},
   "outputs": [
    {
     "data": {
      "text/plain": [
       "<Axes: xlabel='pup_x'>"
      ]
     },
     "execution_count": 9,
     "metadata": {},
     "output_type": "execute_result"
    },
    {
     "data": {
      "image/png": "[encoded data removed]",
      "text/plain": [
       "<Figure size 600x600 with 1 Axes>"
      ]
     },
     "metadata": {},
     "output_type": "display_data"
    }
   ],
   "source": [
    "# plot mouse and pup positions\n",
    "fig, ax = plt.subplots(1, 1, figsize=(6, 6))\n",
    "\n",
    "xlim, ylim =  max(df_DLC['msTop_x'].max(), df_DLC['pup_x'].max()), max(df_DLC['msTop_y'].max(), df_DLC['pup_y'].max())\n",
    "\n",
    "trial_1_DLC.plot(x='msTop_x', y='msTop_y', style='o', ax=ax, xlim=(0, xlim), ylim=(0, ylim), color = 'r')\n",
    "trial_1_DLC.plot(x='pup_x', y='pup_y', style='o', ax=ax,xlim=(0, xlim), ylim=(0, ylim), color = 'b')"
   ]
  },
  {
   "cell_type": "markdown",
   "metadata": {},
   "source": [
    "Speed"
   ]
  },
  {
   "cell_type": "code",
   "execution_count": 10,
   "metadata": {},
   "outputs": [
    {
     "name": "stdout",
     "output_type": "stream",
     "text": [
      "Max speed: 241.5519362383066 Frame index: 11520 Time in minutes: 0:06:24\n"
     ]
    },
    {
     "data": {
      "image/png": "[encoded data removed]",
      "text/plain": [
       "<Figure size 640x480 with 1 Axes>"
      ]
     },
     "metadata": {},
     "output_type": "display_data"
    }
   ],
   "source": [
    "trial_1_DLC = compute_speed(trial_1_DLC)\n",
    "\n",
    "# histogram of speed\n",
    "trial_1_DLC['speed_cm/s'].hist()\n",
    "\n",
    "# find point at which max speed is reached\n",
    "max_speed = trial_1_DLC['speed_cm/s'].max()\n",
    "max_speed_index = trial_1_DLC['speed_cm/s'].idxmax()\n",
    "\n",
    "# find frame index and actual time in minutes\n",
    "max_speed_frame_index = trial_1_DLC.loc[max_speed_index, 'frame_index']\n",
    "max_speed_time = trial_1_DLC.loc[max_speed_index, 'time_seconds']\n",
    "print(\"Max speed:\", max_speed, \"Frame index:\", max_speed_frame_index, \"Time in minutes:\", str(datetime.timedelta(seconds=max_speed_time)))"
   ]
  },
  {
   "cell_type": "markdown",
   "metadata": {},
   "source": [
    "Distance to pup"
   ]
  },
  {
   "cell_type": "code",
   "execution_count": 11,
   "metadata": {},
   "outputs": [
    {
     "data": {
      "text/plain": [
       "<Axes: >"
      ]
     },
     "execution_count": 11,
     "metadata": {},
     "output_type": "execute_result"
    },
    {
     "data": {
      "image/png": "[encoded data removed]",
      "text/plain": [
       "<Figure size 640x480 with 1 Axes>"
      ]
     },
     "metadata": {},
     "output_type": "display_data"
    }
   ],
   "source": [
    "trial_1_DLC = compute_distance_to_pup(trial_1_DLC)\n",
    "\n",
    "trial_1_DLC[\"distance_to_pup\"].hist(bins=20)"
   ]
  },
  {
   "cell_type": "markdown",
   "metadata": {},
   "source": [
    "Head angle to pup"
   ]
  },
  {
   "cell_type": "code",
   "execution_count": 12,
   "metadata": {},
   "outputs": [
    {
     "data": {
      "text/plain": [
       "<Axes: >"
      ]
     },
     "execution_count": 12,
     "metadata": {},
     "output_type": "execute_result"
    },
    {
     "data": {
      "image/png": "[encoded data removed]",
      "text/plain": [
       "<Figure size 640x480 with 1 Axes>"
      ]
     },
     "metadata": {},
     "output_type": "display_data"
    }
   ],
   "source": [
    "trial_1_DLC = compute_head_angle_to_pup(trial_1_DLC, add_vector_columns = True)\n",
    "\n",
    "trial_1_DLC[\"head_angle_to_pup_degrees\"].hist(bins=20)"
   ]
  },
  {
   "cell_type": "markdown",
   "metadata": {},
   "source": [
    "Visualize head angle to pup"
   ]
  },
  {
   "cell_type": "code",
   "execution_count": 13,
   "metadata": {},
   "outputs": [
    {
     "data": {
      "image/png": "[encoded data removed]",
      "text/plain": [
       "<Figure size 600x600 with 1 Axes>"
      ]
     },
     "metadata": {},
     "output_type": "display_data"
    }
   ],
   "source": [
    "plot_mouse_angle_to_pup(trial_1_DLC, ylim = 300 , xlim = 600)"
   ]
  },
  {
   "cell_type": "markdown",
   "metadata": {},
   "source": [
    "Process full file (df_DLC)"
   ]
  },
  {
   "cell_type": "code",
   "execution_count": 17,
   "metadata": {},
   "outputs": [],
   "source": [
    "def extract_base_parameters(df_DLC, df_summary):\n",
    "\n",
    "    # for each trial, get the start and end frames\n",
    "    end_times, start_times, trial_nums = df_summary['BehavRecdTrialEndSecs'], df_summary['PupDispDropSecs'], df_summary['TrialNum']\n",
    "\n",
    "    # create NaN columns for speed, distance to pup and head angle to pup\n",
    "    df_DLC['speed_cm/s'] = np.nan\n",
    "    df_DLC['distance_to_pup'] = np.nan\n",
    "    df_DLC['head_angle_to_pup_degrees'] = np.nan\n",
    "\n",
    "    # iterate over each trial\n",
    "    for end, start, trial_num in zip(end_times, start_times, trial_nums):\n",
    "            # compute frame indices\n",
    "            end_frame, start_frame = round(end*30), round(start*30)\n",
    "\n",
    "            print(f\"Processing trial {trial_num} Start frame: {start_frame} End frame: {end_frame}\")\n",
    "\n",
    "            # get the data for the trial\n",
    "            mask = (df_DLC['frame_index'] >= start_frame) & (df_DLC['frame_index'] <= end_frame)\n",
    "            trial_DLC = df_DLC.loc[mask, :] \n",
    "\n",
    "            # compute speed\n",
    "            trial_DLC = compute_speed(trial_DLC)\n",
    "            # compute distance to pup\n",
    "            trial_DLC = compute_distance_to_pup(trial_DLC)\n",
    "            # compute head angle to pup\n",
    "            trial_DLC = compute_head_angle_to_pup(trial_DLC)\n",
    "            \n",
    "            # update the dataframe\n",
    "            df_DLC.loc[mask, :] = trial_DLC\n",
    "\n",
    "    return df_DLC\n"
   ]
  },
  {
   "cell_type": "code",
   "execution_count": 18,
   "metadata": {},
   "outputs": [
    {
     "name": "stdout",
     "output_type": "stream",
     "text": [
      "Trial 1 Start frame: 11072 End frame: 11538\n",
      "Trial 2 Start frame: 11901 End frame: 12085\n",
      "Trial 3 Start frame: 12456 End frame: 14848\n",
      "Trial 4 Start frame: 15232 End frame: 15940\n",
      "Trial 5 Start frame: 16418 End frame: 19682\n",
      "Trial 6 Start frame: 19972 End frame: 20270\n",
      "Trial 7 Start frame: 20600 End frame: 20923\n",
      "Trial 8 Start frame: 21386 End frame: 21866\n",
      "Trial 9 Start frame: 22212 End frame: 24358\n",
      "Trial 10 Start frame: 24884 End frame: 25584\n"
     ]
    }
   ],
   "source": [
    "\n",
    "df_DLC_updated = extract_base_parameters(df_DLC, df_summary)"
   ]
  },
  {
   "cell_type": "code",
   "execution_count": 16,
   "metadata": {},
   "outputs": [
    {
     "data": {
      "text/html": [
       "<div>\n",
       "<style scoped>\n",
       "    .dataframe tbody tr th:only-of-type {\n",
       "        vertical-align: middle;\n",
       "    }\n",
       "\n",
       "    .dataframe tbody tr th {\n",
       "        vertical-align: top;\n",
       "    }\n",
       "\n",
       "    .dataframe thead th {\n",
       "        text-align: right;\n",
       "    }\n",
       "</style>\n",
       "<table border=\"1\" class=\"dataframe\">\n",
       "  <thead>\n",
       "    <tr style=\"text-align: right;\">\n",
       "      <th></th>\n",
       "      <th>frame_index</th>\n",
       "      <th>time_seconds</th>\n",
       "      <th>msTop_x</th>\n",
       "      <th>msTop_y</th>\n",
       "      <th>msTop_likelihood</th>\n",
       "      <th>endHeadbar_x</th>\n",
       "      <th>endHeadbar_y</th>\n",
       "      <th>endHeadbar_likelihood</th>\n",
       "      <th>earRight_x</th>\n",
       "      <th>earRight_y</th>\n",
       "      <th>...</th>\n",
       "      <th>nose_likelihood</th>\n",
       "      <th>centerNest_x</th>\n",
       "      <th>centerNest_y</th>\n",
       "      <th>centerNest_likelihood</th>\n",
       "      <th>pup_x</th>\n",
       "      <th>pup_y</th>\n",
       "      <th>pup_likelihood</th>\n",
       "      <th>speed_cm/s</th>\n",
       "      <th>distance_to_pup</th>\n",
       "      <th>head_angle_to_pup_degrees</th>\n",
       "    </tr>\n",
       "  </thead>\n",
       "  <tbody>\n",
       "    <tr>\n",
       "      <th>151</th>\n",
       "      <td>151</td>\n",
       "      <td>5.033333</td>\n",
       "      <td>170.865509</td>\n",
       "      <td>89.811813</td>\n",
       "      <td>0.961542</td>\n",
       "      <td>190.735977</td>\n",
       "      <td>79.387955</td>\n",
       "      <td>0.943847</td>\n",
       "      <td>174.400299</td>\n",
       "      <td>80.521759</td>\n",
       "      <td>...</td>\n",
       "      <td>0.965620</td>\n",
       "      <td>204.863220</td>\n",
       "      <td>57.566437</td>\n",
       "      <td>0.910896</td>\n",
       "      <td>477.403198</td>\n",
       "      <td>251.108810</td>\n",
       "      <td>0.074489</td>\n",
       "      <td>NaN</td>\n",
       "      <td>NaN</td>\n",
       "      <td>NaN</td>\n",
       "    </tr>\n",
       "    <tr>\n",
       "      <th>152</th>\n",
       "      <td>152</td>\n",
       "      <td>5.066667</td>\n",
       "      <td>170.884583</td>\n",
       "      <td>89.919662</td>\n",
       "      <td>0.960909</td>\n",
       "      <td>190.975998</td>\n",
       "      <td>79.499725</td>\n",
       "      <td>0.941302</td>\n",
       "      <td>174.574753</td>\n",
       "      <td>80.326324</td>\n",
       "      <td>...</td>\n",
       "      <td>0.965517</td>\n",
       "      <td>204.960968</td>\n",
       "      <td>57.520256</td>\n",
       "      <td>0.904566</td>\n",
       "      <td>477.380341</td>\n",
       "      <td>251.101379</td>\n",
       "      <td>0.074293</td>\n",
       "      <td>NaN</td>\n",
       "      <td>NaN</td>\n",
       "      <td>NaN</td>\n",
       "    </tr>\n",
       "    <tr>\n",
       "      <th>153</th>\n",
       "      <td>153</td>\n",
       "      <td>5.100000</td>\n",
       "      <td>170.883240</td>\n",
       "      <td>90.323051</td>\n",
       "      <td>0.961621</td>\n",
       "      <td>191.376846</td>\n",
       "      <td>80.730232</td>\n",
       "      <td>0.936073</td>\n",
       "      <td>174.205078</td>\n",
       "      <td>80.630722</td>\n",
       "      <td>...</td>\n",
       "      <td>0.967170</td>\n",
       "      <td>205.155075</td>\n",
       "      <td>57.570263</td>\n",
       "      <td>0.890773</td>\n",
       "      <td>477.362000</td>\n",
       "      <td>251.079193</td>\n",
       "      <td>0.073658</td>\n",
       "      <td>NaN</td>\n",
       "      <td>NaN</td>\n",
       "      <td>NaN</td>\n",
       "    </tr>\n",
       "    <tr>\n",
       "      <th>154</th>\n",
       "      <td>154</td>\n",
       "      <td>5.133333</td>\n",
       "      <td>170.926773</td>\n",
       "      <td>90.564362</td>\n",
       "      <td>0.961369</td>\n",
       "      <td>191.282913</td>\n",
       "      <td>80.673759</td>\n",
       "      <td>0.933111</td>\n",
       "      <td>174.103851</td>\n",
       "      <td>80.784721</td>\n",
       "      <td>...</td>\n",
       "      <td>0.965332</td>\n",
       "      <td>208.330902</td>\n",
       "      <td>55.338409</td>\n",
       "      <td>0.897453</td>\n",
       "      <td>477.296814</td>\n",
       "      <td>251.060013</td>\n",
       "      <td>0.073508</td>\n",
       "      <td>NaN</td>\n",
       "      <td>NaN</td>\n",
       "      <td>NaN</td>\n",
       "    </tr>\n",
       "    <tr>\n",
       "      <th>155</th>\n",
       "      <td>155</td>\n",
       "      <td>5.166667</td>\n",
       "      <td>170.918793</td>\n",
       "      <td>90.485443</td>\n",
       "      <td>0.962388</td>\n",
       "      <td>191.297684</td>\n",
       "      <td>80.754738</td>\n",
       "      <td>0.930888</td>\n",
       "      <td>174.123138</td>\n",
       "      <td>80.792427</td>\n",
       "      <td>...</td>\n",
       "      <td>0.966048</td>\n",
       "      <td>209.248642</td>\n",
       "      <td>55.659248</td>\n",
       "      <td>0.909907</td>\n",
       "      <td>477.293640</td>\n",
       "      <td>251.065277</td>\n",
       "      <td>0.073560</td>\n",
       "      <td>NaN</td>\n",
       "      <td>NaN</td>\n",
       "      <td>NaN</td>\n",
       "    </tr>\n",
       "    <tr>\n",
       "      <th>...</th>\n",
       "      <td>...</td>\n",
       "      <td>...</td>\n",
       "      <td>...</td>\n",
       "      <td>...</td>\n",
       "      <td>...</td>\n",
       "      <td>...</td>\n",
       "      <td>...</td>\n",
       "      <td>...</td>\n",
       "      <td>...</td>\n",
       "      <td>...</td>\n",
       "      <td>...</td>\n",
       "      <td>...</td>\n",
       "      <td>...</td>\n",
       "      <td>...</td>\n",
       "      <td>...</td>\n",
       "      <td>...</td>\n",
       "      <td>...</td>\n",
       "      <td>...</td>\n",
       "      <td>...</td>\n",
       "      <td>...</td>\n",
       "      <td>...</td>\n",
       "    </tr>\n",
       "    <tr>\n",
       "      <th>26036</th>\n",
       "      <td>26036</td>\n",
       "      <td>867.866667</td>\n",
       "      <td>209.939117</td>\n",
       "      <td>77.639259</td>\n",
       "      <td>0.145247</td>\n",
       "      <td>209.055069</td>\n",
       "      <td>75.931168</td>\n",
       "      <td>0.016676</td>\n",
       "      <td>210.217743</td>\n",
       "      <td>76.130127</td>\n",
       "      <td>...</td>\n",
       "      <td>0.009938</td>\n",
       "      <td>210.451965</td>\n",
       "      <td>71.425491</td>\n",
       "      <td>0.994742</td>\n",
       "      <td>480.212799</td>\n",
       "      <td>250.406647</td>\n",
       "      <td>0.063795</td>\n",
       "      <td>NaN</td>\n",
       "      <td>NaN</td>\n",
       "      <td>NaN</td>\n",
       "    </tr>\n",
       "    <tr>\n",
       "      <th>26037</th>\n",
       "      <td>26037</td>\n",
       "      <td>867.900000</td>\n",
       "      <td>207.269028</td>\n",
       "      <td>76.809303</td>\n",
       "      <td>0.025151</td>\n",
       "      <td>208.071136</td>\n",
       "      <td>76.504684</td>\n",
       "      <td>0.009770</td>\n",
       "      <td>209.278519</td>\n",
       "      <td>76.249054</td>\n",
       "      <td>...</td>\n",
       "      <td>0.005573</td>\n",
       "      <td>210.278320</td>\n",
       "      <td>68.849236</td>\n",
       "      <td>0.995682</td>\n",
       "      <td>480.212860</td>\n",
       "      <td>250.405945</td>\n",
       "      <td>0.064049</td>\n",
       "      <td>NaN</td>\n",
       "      <td>NaN</td>\n",
       "      <td>NaN</td>\n",
       "    </tr>\n",
       "    <tr>\n",
       "      <th>26038</th>\n",
       "      <td>26038</td>\n",
       "      <td>867.933333</td>\n",
       "      <td>208.179184</td>\n",
       "      <td>81.363785</td>\n",
       "      <td>0.282739</td>\n",
       "      <td>206.524475</td>\n",
       "      <td>80.659828</td>\n",
       "      <td>0.024828</td>\n",
       "      <td>208.075089</td>\n",
       "      <td>80.550095</td>\n",
       "      <td>...</td>\n",
       "      <td>0.021104</td>\n",
       "      <td>213.096329</td>\n",
       "      <td>72.999992</td>\n",
       "      <td>0.991961</td>\n",
       "      <td>480.213226</td>\n",
       "      <td>250.405502</td>\n",
       "      <td>0.064019</td>\n",
       "      <td>NaN</td>\n",
       "      <td>NaN</td>\n",
       "      <td>NaN</td>\n",
       "    </tr>\n",
       "    <tr>\n",
       "      <th>26039</th>\n",
       "      <td>26039</td>\n",
       "      <td>867.966667</td>\n",
       "      <td>209.563736</td>\n",
       "      <td>83.124634</td>\n",
       "      <td>0.252159</td>\n",
       "      <td>220.156143</td>\n",
       "      <td>78.939888</td>\n",
       "      <td>0.029228</td>\n",
       "      <td>208.904358</td>\n",
       "      <td>81.995323</td>\n",
       "      <td>...</td>\n",
       "      <td>0.023468</td>\n",
       "      <td>212.049164</td>\n",
       "      <td>73.347084</td>\n",
       "      <td>0.981267</td>\n",
       "      <td>480.216187</td>\n",
       "      <td>250.406601</td>\n",
       "      <td>0.063996</td>\n",
       "      <td>NaN</td>\n",
       "      <td>NaN</td>\n",
       "      <td>NaN</td>\n",
       "    </tr>\n",
       "    <tr>\n",
       "      <th>26040</th>\n",
       "      <td>26040</td>\n",
       "      <td>868.000000</td>\n",
       "      <td>210.321472</td>\n",
       "      <td>83.696930</td>\n",
       "      <td>0.051937</td>\n",
       "      <td>220.745575</td>\n",
       "      <td>79.040428</td>\n",
       "      <td>0.016427</td>\n",
       "      <td>209.122681</td>\n",
       "      <td>82.611824</td>\n",
       "      <td>...</td>\n",
       "      <td>0.006910</td>\n",
       "      <td>213.234711</td>\n",
       "      <td>73.608047</td>\n",
       "      <td>0.976373</td>\n",
       "      <td>480.046143</td>\n",
       "      <td>250.338409</td>\n",
       "      <td>0.062937</td>\n",
       "      <td>NaN</td>\n",
       "      <td>NaN</td>\n",
       "      <td>NaN</td>\n",
       "    </tr>\n",
       "  </tbody>\n",
       "</table>\n",
       "<p>25890 rows × 29 columns</p>\n",
       "</div>"
      ],
      "text/plain": [
       "       frame_index  time_seconds     msTop_x    msTop_y  msTop_likelihood  \\\n",
       "151            151      5.033333  170.865509  89.811813          0.961542   \n",
       "152            152      5.066667  170.884583  89.919662          0.960909   \n",
       "153            153      5.100000  170.883240  90.323051          0.961621   \n",
       "154            154      5.133333  170.926773  90.564362          0.961369   \n",
       "155            155      5.166667  170.918793  90.485443          0.962388   \n",
       "...            ...           ...         ...        ...               ...   \n",
       "26036        26036    867.866667  209.939117  77.639259          0.145247   \n",
       "26037        26037    867.900000  207.269028  76.809303          0.025151   \n",
       "26038        26038    867.933333  208.179184  81.363785          0.282739   \n",
       "26039        26039    867.966667  209.563736  83.124634          0.252159   \n",
       "26040        26040    868.000000  210.321472  83.696930          0.051937   \n",
       "\n",
       "       endHeadbar_x  endHeadbar_y  endHeadbar_likelihood  earRight_x  \\\n",
       "151      190.735977     79.387955               0.943847  174.400299   \n",
       "152      190.975998     79.499725               0.941302  174.574753   \n",
       "153      191.376846     80.730232               0.936073  174.205078   \n",
       "154      191.282913     80.673759               0.933111  174.103851   \n",
       "155      191.297684     80.754738               0.930888  174.123138   \n",
       "...             ...           ...                    ...         ...   \n",
       "26036    209.055069     75.931168               0.016676  210.217743   \n",
       "26037    208.071136     76.504684               0.009770  209.278519   \n",
       "26038    206.524475     80.659828               0.024828  208.075089   \n",
       "26039    220.156143     78.939888               0.029228  208.904358   \n",
       "26040    220.745575     79.040428               0.016427  209.122681   \n",
       "\n",
       "       earRight_y  ...  nose_likelihood  centerNest_x  centerNest_y  \\\n",
       "151     80.521759  ...         0.965620    204.863220     57.566437   \n",
       "152     80.326324  ...         0.965517    204.960968     57.520256   \n",
       "153     80.630722  ...         0.967170    205.155075     57.570263   \n",
       "154     80.784721  ...         0.965332    208.330902     55.338409   \n",
       "155     80.792427  ...         0.966048    209.248642     55.659248   \n",
       "...           ...  ...              ...           ...           ...   \n",
       "26036   76.130127  ...         0.009938    210.451965     71.425491   \n",
       "26037   76.249054  ...         0.005573    210.278320     68.849236   \n",
       "26038   80.550095  ...         0.021104    213.096329     72.999992   \n",
       "26039   81.995323  ...         0.023468    212.049164     73.347084   \n",
       "26040   82.611824  ...         0.006910    213.234711     73.608047   \n",
       "\n",
       "       centerNest_likelihood       pup_x       pup_y  pup_likelihood  \\\n",
       "151                 0.910896  477.403198  251.108810        0.074489   \n",
       "152                 0.904566  477.380341  251.101379        0.074293   \n",
       "153                 0.890773  477.362000  251.079193        0.073658   \n",
       "154                 0.897453  477.296814  251.060013        0.073508   \n",
       "155                 0.909907  477.293640  251.065277        0.073560   \n",
       "...                      ...         ...         ...             ...   \n",
       "26036               0.994742  480.212799  250.406647        0.063795   \n",
       "26037               0.995682  480.212860  250.405945        0.064049   \n",
       "26038               0.991961  480.213226  250.405502        0.064019   \n",
       "26039               0.981267  480.216187  250.406601        0.063996   \n",
       "26040               0.976373  480.046143  250.338409        0.062937   \n",
       "\n",
       "       speed_cm/s  distance_to_pup  head_angle_to_pup_degrees  \n",
       "151           NaN              NaN                        NaN  \n",
       "152           NaN              NaN                        NaN  \n",
       "153           NaN              NaN                        NaN  \n",
       "154           NaN              NaN                        NaN  \n",
       "155           NaN              NaN                        NaN  \n",
       "...           ...              ...                        ...  \n",
       "26036         NaN              NaN                        NaN  \n",
       "26037         NaN              NaN                        NaN  \n",
       "26038         NaN              NaN                        NaN  \n",
       "26039         NaN              NaN                        NaN  \n",
       "26040         NaN              NaN                        NaN  \n",
       "\n",
       "[25890 rows x 29 columns]"
      ]
     },
     "execution_count": 16,
     "metadata": {},
     "output_type": "execute_result"
    }
   ],
   "source": [
    "df_DLC_updated"
   ]
  }
 ],
 "metadata": {
  "kernelspec": {
   "display_name": "env",
   "language": "python",
   "name": "python3"
  },
  "language_info": {
   "codemirror_mode": {
    "name": "ipython",
    "version": 3
   },
   "file_extension": ".py",
   "mimetype": "text/x-python",
   "name": "python",
   "nbconvert_exporter": "python",
   "pygments_lexer": "ipython3",
   "version": "3.8.0"
  }
 },
 "nbformat": 4,
 "nbformat_minor": 2
}
