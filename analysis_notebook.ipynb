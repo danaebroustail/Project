{
 "cells": [
  {
   "cell_type": "code",
   "execution_count": null,
   "metadata": {},
   "outputs": [],
   "source": [
    "import pandas as pd\n",
    "import numpy as np\n",
    "import matplotlib.pyplot as plt\n",
    "import os\n",
    "from DataLoader import DataLoader\n",
    "import datetime\n",
    "import random\n",
    "import warnings\n",
    "from BehaviourFeatureExtractor import compute_speed, compute_head_angle_to_pup, compute_distance_to_pup, extract_base_parameters, plot_mouse_angle_to_pup, convert_seconds_to_frame, extract_trial_from_DLC"
   ]
  },
  {
   "cell_type": "markdown",
   "metadata": {},
   "source": [
    "### Quality Check analysis (low likelihoods) overview ###"
   ]
  },
  {
   "cell_type": "markdown",
   "metadata": {},
   "source": [
    "#### Loading and processing all trials from all days #####"
   ]
  },
  {
   "cell_type": "code",
   "execution_count": null,
   "metadata": {},
   "outputs": [
    {
     "name": "stdout",
     "output_type": "stream",
     "text": [
      "Found items ['.DS_Store', 'MBI5335RR'] at directory data\n",
      "Found items ['.DS_Store', 'MBI5335RR_240309_d6', 'MBI5335RR_240305_d2', 'MBI5335RR_240304_d1', 'MBI5335RR_240308_d5', 'MBI5335RR_240306_d3', 'MBI5335RR_240307_d4'] at directory data/MBI5335RR\n",
      "Found items ['MBI5335RR_240309_d6_Avisoft', 'MBI5335RR_240309_d6_Behavior'] at directory data/MBI5335RR/MBI5335RR_240309_d6\n",
      "Found items ['MBI5335RR_240309_d6_Avisoft_concatenated 2024-04-21  2_08 PM_Stats_SYNCCORRECTED.xlsx'] at directory data/MBI5335RR/MBI5335RR_240309_d6/MBI5335RR_240309_d6_Avisoft\n",
      "Found items ['MBI5335RR_d6DLC_resnet50_ESM-maternal-learningJun18shuffle1_100000.csv', 'MBI5335RR_240309_d6_BehavSummary.csv'] at directory data/MBI5335RR/MBI5335RR_240309_d6/MBI5335RR_240309_d6_Behavior\n",
      "Found items ['MBI5335RR_240305_d2_Behavior', 'MBI5335RR_240305_d2_Avisoft'] at directory data/MBI5335RR/MBI5335RR_240305_d2\n",
      "Found items ['MBI5335RR_240305_d2_BehavSummary.csv', 'MBI5335RR_d2DLC_resnet50_ESM-maternal-learningJun18shuffle1_100000.csv'] at directory data/MBI5335RR/MBI5335RR_240305_d2/MBI5335RR_240305_d2_Behavior\n",
      "Found items ['MBI5335RR_240305_d2_Avisoft_concatenated 2024-04-19 11_58 AM_Stats_SYNCCORRECTED.xlsx'] at directory data/MBI5335RR/MBI5335RR_240305_d2/MBI5335RR_240305_d2_Avisoft\n",
      "Found items ['MBI5335RR_240304_d1_Avisoft', 'MBI5335RR_240304_d1_Behavior', 'MBI5335RR_d1.mp4'] at directory data/MBI5335RR/MBI5335RR_240304_d1\n",
      "Found items ['T0000001 2024-04-19 11_01 AM_Stats_SYNCCORRECTED.xlsx'] at directory data/MBI5335RR/MBI5335RR_240304_d1/MBI5335RR_240304_d1_Avisoft\n",
      "Found items ['MBI5335RR_d1DLC_resnet50_ESM-maternal-learningJun18shuffle1_100000.csv', 'MBI5335RR_240304_d1_BehavSummary.csv'] at directory data/MBI5335RR/MBI5335RR_240304_d1/MBI5335RR_240304_d1_Behavior\n",
      "Found items ['MBI5335RR_240308_d5_Avisoft', 'MBI5335RR_240308_d5_Behavior'] at directory data/MBI5335RR/MBI5335RR_240308_d5\n",
      "Found items ['T0000001 2024-04-21  1_22 PM_Stats_SYNCCORRECTED.xlsx'] at directory data/MBI5335RR/MBI5335RR_240308_d5/MBI5335RR_240308_d5_Avisoft\n",
      "Found items ['MBI5335RR_d5DLC_resnet50_ESM-maternal-learningJun18shuffle1_100000.csv', 'MBI5335RR_240308_d5_BehavSummary.csv'] at directory data/MBI5335RR/MBI5335RR_240308_d5/MBI5335RR_240308_d5_Behavior\n",
      "Found items ['MBI5335RR_240306_d3_Behavior', 'MBI5335RR_240306_d3_Avisoft'] at directory data/MBI5335RR/MBI5335RR_240306_d3\n",
      "Found items ['MBI5335RR_240306_d3_BehavSummary.csv', 'MBI5335RR_d3DLC_resnet50_ESM-maternal-learningJun18shuffle1_100000.csv'] at directory data/MBI5335RR/MBI5335RR_240306_d3/MBI5335RR_240306_d3_Behavior\n",
      "Found items ['MBI5335RR_240306_d3_Avisoft_concatenated 2024-04-19  1_12 PM_Stats_SYNCCORRECTED.xlsx'] at directory data/MBI5335RR/MBI5335RR_240306_d3/MBI5335RR_240306_d3_Avisoft\n",
      "Found items ['MBI5335RR_240307_d4_Avisoft', 'MBI5335RR_240307_d4_Behavior'] at directory data/MBI5335RR/MBI5335RR_240307_d4\n",
      "Found items ['T0000001 2024-04-21 12_35 PM_Stats_SYNCCORRECTED.xlsx'] at directory data/MBI5335RR/MBI5335RR_240307_d4/MBI5335RR_240307_d4_Avisoft\n",
      "Found items ['MBI5335RR_d4DLC_resnet50_ESM-maternal-learningJun18shuffle1_100000.csv', 'MBI5335RR_240307_d4_BehavSummary.csv'] at directory data/MBI5335RR/MBI5335RR_240307_d4/MBI5335RR_240307_d4_Behavior\n"
     ]
    }
   ],
   "source": [
    "data_dir = \"data\"\n",
    "DL = DataLoader(data_dir)"
   ]
  },
  {
   "cell_type": "code",
   "execution_count": null,
   "metadata": {},
   "outputs": [],
   "source": [
    "days = ['d1', 'd2', 'd3', 'd4', 'd5', 'd6']\n",
    "full_data = {}\n",
    "# get data for d1 experiment\n",
    "for day in days:\n",
    "    data = DL.get_data_for_experiment(mouse_id = \"MBI5335RR\",\n",
    "                                        day = day)\n",
    "\n",
    "    full_data[day] = data"
   ]
  },
  {
   "cell_type": "markdown",
   "metadata": {},
   "source": [
    "#### Plotting low likelihoods, visual assessment ####"
   ]
  },
  {
   "cell_type": "code",
   "execution_count": null,
   "metadata": {},
   "outputs": [],
   "source": [
    "df_DLC, df_summary = full_data['d1']['Behavior']['df_DLC'], full_data['d1']['Behavior']['df_summary']\n",
    "trial_1_DLC = extract_trial_from_DLC(df_DLC, 1)\n",
    "\n",
    "# plot mouse and pup positions\n",
    "fig, ax = plt.subplots(1, 1, figsize=(6, 6))\n",
    "\n",
    "# mask low likelihoods\n",
    "threshold = 0.3\n",
    "mask = trial_1_DLC[\"nose_likelihood\"] < threshold\n",
    "\n",
    "\n",
    "xlim, ylim =  max(df_DLC['msTop_x'].max(), df_DLC['pup_x'].max()), max(df_DLC['msTop_y'].max(), df_DLC['pup_y'].max())\n",
    "\n",
    "# trial_1_DLC.plot(x='msTop_x', y='msTop_y', style='o', ax=ax, xlim=(0, xlim), ylim=(0, ylim), color = 'r')\n",
    "trial_1_DLC.plot(x='earRight_x', y='earRight_y', style='o', ax=ax,xlim=(0, xlim), ylim=(0, ylim), color = 'green')\n",
    "trial_1_DLC.plot(x='earLeft_x', y='earLeft_y', style='o', ax=ax,xlim=(0, xlim), ylim=(0, ylim), color = 'purple')\n",
    "trial_1_DLC.plot(x='nose_x', y='nose_y', style='o', ax=ax,xlim=(0, xlim), ylim=(0, ylim), color = 'orange')\n",
    "\n",
    "# trial_1_DLC.plot(x='pup_x', y='pup_y', style='o', ax=ax,xlim=(0, xlim), ylim=(0, ylim), color = 'b')\n",
    "trial_1_DLC[mask].plot(x='nose_x', y='nose_y', style='o', ax=ax,xlim=(0, xlim), ylim=(0, ylim), color = 'black')"
   ]
  }
 ],
 "metadata": {
  "kernelspec": {
   "display_name": "env",
   "language": "python",
   "name": "python3"
  },
  "language_info": {
   "name": "python",
   "version": "3.8.0"
  }
 },
 "nbformat": 4,
 "nbformat_minor": 2
}
