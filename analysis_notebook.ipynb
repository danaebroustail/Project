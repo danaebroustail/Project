{
 "cells": [
  {
   "cell_type": "code",
   "execution_count": 1,
   "metadata": {},
   "outputs": [],
   "source": [
    "import pandas as pd\n",
    "import numpy as np\n",
    "import matplotlib.pyplot as plt\n",
    "import os\n",
    "from DataLoader import DataLoader\n",
    "import datetime\n",
    "import random\n",
    "import warnings\n",
    "from BehaviourFeatureExtractor import compute_speed, compute_head_angle_to_pup, compute_distance_to_pup, extract_base_parameters, plot_mouse_angle_to_pup, convert_seconds_to_frame, extract_trial_from_DLC"
   ]
  },
  {
   "cell_type": "markdown",
   "metadata": {},
   "source": [
    "### Quality Check analysis (low likelihoods) overview ###"
   ]
  },
  {
   "cell_type": "markdown",
   "metadata": {},
   "source": [
    "#### Loading and processing all trials from all days #####"
   ]
  },
  {
   "cell_type": "code",
   "execution_count": null,
   "metadata": {},
   "outputs": [],
   "source": [
    "data_dir = \"data\"\n",
    "DL = DataLoader(data_dir)"
   ]
  },
  {
   "cell_type": "code",
   "execution_count": null,
   "metadata": {},
   "outputs": [],
   "source": [
    "days = ['d1', 'd2', 'd3', 'd4', 'd5', 'd6']\n",
    "full_data = {}\n",
    "# get data for d1 experiment\n",
    "for day in days:\n",
    "    data = DL.get_data_for_experiment(mouse_id = \"MBI5335RR\",\n",
    "                                        day = day)\n",
    "    full_data[day] = data\n",
    "\n",
    "    # extract base parameters\n",
    "    df_dlc, df_summary = data[\"Behavior\"][\"df_dlc\"], data[\"Behavior\"][\"df_summary\"]\n",
    "    data, trials_dict = extract_base_parameters(df_dlc, df_summary)\n",
    "    full_data[day][\"Behavior\"][\"trials\"] = trials_dict\n"
   ]
  },
  {
   "cell_type": "code",
   "execution_count": 9,
   "metadata": {},
   "outputs": [
    {
     "data": {
      "text/plain": [
       "dict_keys([1, 2, 3, 4, 5, 6, 7, 8, 9, 10])"
      ]
     },
     "execution_count": 9,
     "metadata": {},
     "output_type": "execute_result"
    }
   ],
   "source": [
    "full_data['d1']['Behavior']['trials'].keys()"
   ]
  },
  {
   "cell_type": "code",
   "execution_count": 11,
   "metadata": {},
   "outputs": [
    {
     "data": {
      "text/html": [
       "<div>\n",
       "<style scoped>\n",
       "    .dataframe tbody tr th:only-of-type {\n",
       "        vertical-align: middle;\n",
       "    }\n",
       "\n",
       "    .dataframe tbody tr th {\n",
       "        vertical-align: top;\n",
       "    }\n",
       "\n",
       "    .dataframe thead th {\n",
       "        text-align: right;\n",
       "    }\n",
       "</style>\n",
       "<table border=\"1\" class=\"dataframe\">\n",
       "  <thead>\n",
       "    <tr style=\"text-align: right;\">\n",
       "      <th></th>\n",
       "      <th>frame_index</th>\n",
       "      <th>time_seconds</th>\n",
       "      <th>msTop_x</th>\n",
       "      <th>msTop_y</th>\n",
       "      <th>msTop_likelihood</th>\n",
       "      <th>endHeadbar_x</th>\n",
       "      <th>endHeadbar_y</th>\n",
       "      <th>endHeadbar_likelihood</th>\n",
       "      <th>earRight_x</th>\n",
       "      <th>earRight_y</th>\n",
       "      <th>...</th>\n",
       "      <th>centerNest_y</th>\n",
       "      <th>centerNest_likelihood</th>\n",
       "      <th>pup_x</th>\n",
       "      <th>pup_y</th>\n",
       "      <th>pup_likelihood</th>\n",
       "      <th>ms_speed_px/s</th>\n",
       "      <th>pup_speed_px/s</th>\n",
       "      <th>distance_head_to_pup</th>\n",
       "      <th>distance_mouse_to_pup</th>\n",
       "      <th>head_angle_to_pup_degrees</th>\n",
       "    </tr>\n",
       "  </thead>\n",
       "  <tbody>\n",
       "    <tr>\n",
       "      <th>151</th>\n",
       "      <td>151</td>\n",
       "      <td>5.033333</td>\n",
       "      <td>170.865509</td>\n",
       "      <td>89.811813</td>\n",
       "      <td>0.961542</td>\n",
       "      <td>190.735977</td>\n",
       "      <td>79.387955</td>\n",
       "      <td>0.943847</td>\n",
       "      <td>174.400299</td>\n",
       "      <td>80.521759</td>\n",
       "      <td>...</td>\n",
       "      <td>57.566437</td>\n",
       "      <td>0.910896</td>\n",
       "      <td>477.403198</td>\n",
       "      <td>251.108810</td>\n",
       "      <td>0.074489</td>\n",
       "      <td>NaN</td>\n",
       "      <td>NaN</td>\n",
       "      <td>NaN</td>\n",
       "      <td>NaN</td>\n",
       "      <td>NaN</td>\n",
       "    </tr>\n",
       "    <tr>\n",
       "      <th>152</th>\n",
       "      <td>152</td>\n",
       "      <td>5.066667</td>\n",
       "      <td>170.884583</td>\n",
       "      <td>89.919662</td>\n",
       "      <td>0.960909</td>\n",
       "      <td>190.975998</td>\n",
       "      <td>79.499725</td>\n",
       "      <td>0.941302</td>\n",
       "      <td>174.574753</td>\n",
       "      <td>80.326324</td>\n",
       "      <td>...</td>\n",
       "      <td>57.520256</td>\n",
       "      <td>0.904566</td>\n",
       "      <td>477.380341</td>\n",
       "      <td>251.101379</td>\n",
       "      <td>0.074293</td>\n",
       "      <td>NaN</td>\n",
       "      <td>NaN</td>\n",
       "      <td>NaN</td>\n",
       "      <td>NaN</td>\n",
       "      <td>NaN</td>\n",
       "    </tr>\n",
       "    <tr>\n",
       "      <th>153</th>\n",
       "      <td>153</td>\n",
       "      <td>5.100000</td>\n",
       "      <td>170.883240</td>\n",
       "      <td>90.323051</td>\n",
       "      <td>0.961621</td>\n",
       "      <td>191.376846</td>\n",
       "      <td>80.730232</td>\n",
       "      <td>0.936073</td>\n",
       "      <td>174.205078</td>\n",
       "      <td>80.630722</td>\n",
       "      <td>...</td>\n",
       "      <td>57.570263</td>\n",
       "      <td>0.890773</td>\n",
       "      <td>477.362000</td>\n",
       "      <td>251.079193</td>\n",
       "      <td>0.073658</td>\n",
       "      <td>NaN</td>\n",
       "      <td>NaN</td>\n",
       "      <td>NaN</td>\n",
       "      <td>NaN</td>\n",
       "      <td>NaN</td>\n",
       "    </tr>\n",
       "  </tbody>\n",
       "</table>\n",
       "<p>3 rows × 31 columns</p>\n",
       "</div>"
      ],
      "text/plain": [
       "     frame_index  time_seconds     msTop_x    msTop_y  msTop_likelihood  \\\n",
       "151          151      5.033333  170.865509  89.811813          0.961542   \n",
       "152          152      5.066667  170.884583  89.919662          0.960909   \n",
       "153          153      5.100000  170.883240  90.323051          0.961621   \n",
       "\n",
       "     endHeadbar_x  endHeadbar_y  endHeadbar_likelihood  earRight_x  \\\n",
       "151    190.735977     79.387955               0.943847  174.400299   \n",
       "152    190.975998     79.499725               0.941302  174.574753   \n",
       "153    191.376846     80.730232               0.936073  174.205078   \n",
       "\n",
       "     earRight_y  ...  centerNest_y  centerNest_likelihood       pup_x  \\\n",
       "151   80.521759  ...     57.566437               0.910896  477.403198   \n",
       "152   80.326324  ...     57.520256               0.904566  477.380341   \n",
       "153   80.630722  ...     57.570263               0.890773  477.362000   \n",
       "\n",
       "          pup_y  pup_likelihood  ms_speed_px/s  pup_speed_px/s  \\\n",
       "151  251.108810        0.074489            NaN             NaN   \n",
       "152  251.101379        0.074293            NaN             NaN   \n",
       "153  251.079193        0.073658            NaN             NaN   \n",
       "\n",
       "     distance_head_to_pup  distance_mouse_to_pup  head_angle_to_pup_degrees  \n",
       "151                   NaN                    NaN                        NaN  \n",
       "152                   NaN                    NaN                        NaN  \n",
       "153                   NaN                    NaN                        NaN  \n",
       "\n",
       "[3 rows x 31 columns]"
      ]
     },
     "execution_count": 11,
     "metadata": {},
     "output_type": "execute_result"
    }
   ],
   "source": [
    "full_data['d1']['Behavior']['df_dlc'].head(3)"
   ]
  },
  {
   "cell_type": "markdown",
   "metadata": {},
   "source": [
    "#### Plotting low likelihoods, visual assessment ####"
   ]
  },
  {
   "cell_type": "code",
   "execution_count": null,
   "metadata": {},
   "outputs": [],
   "source": [
    "df_DLC, df_summary = full_data['d1']['Behavior']['df_DLC'], full_data['d1']['Behavior']['df_summary']\n",
    "trial_1_DLC = extract_trial_from_DLC(df_DLC, 1)\n",
    "\n",
    "# plot mouse and pup positions\n",
    "fig, ax = plt.subplots(1, 1, figsize=(6, 6))\n",
    "\n",
    "# mask low likelihoods\n",
    "threshold = 0.3\n",
    "mask = trial_1_DLC[\"nose_likelihood\"] < threshold\n",
    "\n",
    "\n",
    "xlim, ylim =  max(df_DLC['msTop_x'].max(), df_DLC['pup_x'].max()), max(df_DLC['msTop_y'].max(), df_DLC['pup_y'].max())\n",
    "\n",
    "# trial_1_DLC.plot(x='msTop_x', y='msTop_y', style='o', ax=ax, xlim=(0, xlim), ylim=(0, ylim), color = 'r')\n",
    "trial_1_DLC.plot(x='earRight_x', y='earRight_y', style='o', ax=ax,xlim=(0, xlim), ylim=(0, ylim), color = 'green')\n",
    "trial_1_DLC.plot(x='earLeft_x', y='earLeft_y', style='o', ax=ax,xlim=(0, xlim), ylim=(0, ylim), color = 'purple')\n",
    "trial_1_DLC.plot(x='nose_x', y='nose_y', style='o', ax=ax,xlim=(0, xlim), ylim=(0, ylim), color = 'orange')\n",
    "\n",
    "# trial_1_DLC.plot(x='pup_x', y='pup_y', style='o', ax=ax,xlim=(0, xlim), ylim=(0, ylim), color = 'b')\n",
    "trial_1_DLC[mask].plot(x='nose_x', y='nose_y', style='o', ax=ax,xlim=(0, xlim), ylim=(0, ylim), color = 'black')"
   ]
  }
 ],
 "metadata": {
  "kernelspec": {
   "display_name": "env",
   "language": "python",
   "name": "python3"
  },
  "language_info": {
   "codemirror_mode": {
    "name": "ipython",
    "version": 3
   },
   "file_extension": ".py",
   "mimetype": "text/x-python",
   "name": "python",
   "nbconvert_exporter": "python",
   "pygments_lexer": "ipython3",
   "version": "3.8.0"
  }
 },
 "nbformat": 4,
 "nbformat_minor": 2
}
