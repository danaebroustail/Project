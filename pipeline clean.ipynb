{
 "cells": [
  {
   "cell_type": "code",
   "execution_count": 1,
   "metadata": {},
   "outputs": [],
   "source": [
    "import pandas as pd\n",
    "import numpy as np\n",
    "import matplotlib.pyplot as plt\n",
    "import os\n",
    "from DataLoader import *\n",
    "import datetime\n",
    "import random\n",
    "import warnings\n",
    "from BehaviourFeatureExtractor import *\n",
    "from BehaviourAnnotation import *\n",
    "from VocalFeatureExtractor import *\n",
    "from colour import Color\n",
    "import matplotlib.patches as mpatches\n",
    "import matplotlib.lines as mlines\n",
    "import copy\n",
    "import networkx as nx\n",
    "import matplotlib.pyplot as plt\n",
    "import numpy as np\n",
    "import pandas as pd\n",
    "import warnings"
   ]
  },
  {
   "cell_type": "markdown",
   "metadata": {},
   "source": [
    "# 0. Classes and directories #"
   ]
  },
  {
   "cell_type": "code",
   "execution_count": 2,
   "metadata": {},
   "outputs": [],
   "source": [
    "config_path = \"config.json\"\n",
    "data_dir = \"data/\"\n",
    "DL = DataLoader(data_dir, path_to_config_file=\"config.json\")\n",
    "BA = BehaviourAnnotator(config_path)\n",
    "BF = BehaviourFeatureExtractor(\"config.json\")\n",
    "VF = VocalFeatureExtractor(\"config.json\")"
   ]
  },
  {
   "cell_type": "code",
   "execution_count": 3,
   "metadata": {},
   "outputs": [],
   "source": [
    "processed_data_dir = \"processed_data\"\n",
    "annotated_data_dir = \"annotated_resolved_data\"\n",
    "transition_path_export_dir = \"transition_paths\"\n",
    "export_csv_dir = \"annotated_cleaned_resolved_data\"\n",
    "\n",
    "# plots\n",
    "plot_dir = \"full_cleaned_resolved_annotation_plots\"\n"
   ]
  },
  {
   "cell_type": "markdown",
   "metadata": {},
   "source": [
    "# 1. Data loading #"
   ]
  },
  {
   "cell_type": "code",
   "execution_count": null,
   "metadata": {},
   "outputs": [],
   "source": [
    "mouse_ids = [mouse_id for mouse_id in os.listdir(data_dir) if os.path.isdir(os.path.join(data_dir, mouse_id))]\n",
    "print(\"Mouse IDs:\", mouse_ids)\n",
    "days = [f\"d{i}\" for i in range(1, 7)]\n",
    "print(\"Days:\", days)"
   ]
  },
  {
   "cell_type": "markdown",
   "metadata": {},
   "source": [
    "# 2. USV + DLC preprocessing #"
   ]
  },
  {
   "cell_type": "code",
   "execution_count": null,
   "metadata": {},
   "outputs": [],
   "source": [
    "experiment_data_processed = DL.collect_and_process_experiment_data(mouse_ids, days, BF, VF,\n",
    "                                                        processed_data_dir = processed_data_dir,\n",
    "                                                        export = True)"
   ]
  },
  {
   "cell_type": "markdown",
   "metadata": {},
   "source": [
    "# 3. Behaviour annotation #"
   ]
  },
  {
   "cell_type": "code",
   "execution_count": null,
   "metadata": {},
   "outputs": [],
   "source": [
    "mouse_ids = [mouse_id for mouse_id in os.listdir(processed_data_dir) if os.path.isdir(os.path.join(processed_data_dir, mouse_id)) and (mouse_id.startswith(\"M\") or mouse_id.startswith(\"V\"))]\n",
    "days = [f\"d{i}\" for i in range(1, 7)]\n",
    "processed_data = load_processed_data(processed_data_dir, mouse_ids, days)\n"
   ]
  },
  {
   "cell_type": "code",
   "execution_count": null,
   "metadata": {},
   "outputs": [],
   "source": [
    "error_examples = []\n",
    "timing_error_examples = [(\"VACO143LLR\", \"d6\", 1), (\"MBQ0231R\", \"d3\", 5), ('MBQ0231R', 'd5', 8), (\"MBQ0012RR\", \"d6\", 4)]\n",
    "trials_to_avoid = timing_error_examples\n",
    "\n",
    "for mouse_id in mouse_ids:\n",
    "    for day in days:\n",
    "        for trial_num in range(1, 11):\n",
    "\n",
    "            print(f\" ==== Example: {mouse_id} - {day} - {trial_num} ==== \")\n",
    "            example = (mouse_id, day, trial_num)\n",
    "\n",
    "            if example in trials_to_avoid:\n",
    "                print(f\" ==== Skipping example: {example} ==== \")\n",
    "                continue\n",
    "\n",
    "            try:\n",
    "                trial_df =  copy.deepcopy(processed_data[mouse_id][day][\"trials\"][trial_num][\"dlc_data\"])\n",
    "                df_summary = copy.deepcopy(processed_data[mouse_id][day][\"Behavior\"][\"df_summary\"])\n",
    "                pup_locations = copy.deepcopy(processed_data[mouse_id][day][\"trials\"][trial_num][\"pup_locations\"])\n",
    "\n",
    "                BA.run_pup_directed_behavior_annotation(mouse_id, day, trial_num,\n",
    "                                                        trial_df, df_summary, pup_locations,\n",
    "                                                        processed_data_dir = annotated_data_dir, export = True)\n",
    "            except Exception as e:\n",
    "                print(f\"**** !!!! **** !!!! Error on example: {example} !!!! **** !!!! ****\")\n",
    "                error_examples.append(example)\n"
   ]
  },
  {
   "cell_type": "code",
   "execution_count": null,
   "metadata": {},
   "outputs": [],
   "source": [
    "error_examples"
   ]
  },
  {
   "cell_type": "markdown",
   "metadata": {},
   "source": [
    "# 4. Transition paths and counts matrix #"
   ]
  },
  {
   "cell_type": "code",
   "execution_count": 5,
   "metadata": {},
   "outputs": [],
   "source": [
    "# load processed annotated data into a dictionary\n",
    "mouse_ids = [mouse_id for mouse_id in os.listdir(annotated_data_dir) if os.path.isdir(os.path.join(annotated_data_dir, mouse_id)) and (mouse_id.startswith(\"M\") or mouse_id.startswith(\"V\"))]\n",
    "days = [f\"d{i}\" for i in range(1, 7)]\n",
    "processed_and_annotated_data = load_processed_data(annotated_data_dir, mouse_ids, days)"
   ]
  },
  {
   "cell_type": "markdown",
   "metadata": {},
   "source": [
    "## Run transition path extraction loop ##"
   ]
  },
  {
   "cell_type": "code",
   "execution_count": null,
   "metadata": {},
   "outputs": [],
   "source": [
    "BA.get_and_export_transition_paths_for_animal(processed_and_annotated_data, mouse_ids, days, export = True,\n",
    "                                                transition_path_export_dir = transition_path_export_dir,\n",
    "                                                export_csv_dir = export_csv_dir,\n",
    "                                                plot_export_dir = plot_dir)"
   ]
  },
  {
   "cell_type": "markdown",
   "metadata": {},
   "source": [
    "## Load transition paths from directory ##"
   ]
  },
  {
   "cell_type": "code",
   "execution_count": 5,
   "metadata": {},
   "outputs": [],
   "source": [
    "# load all transition paths in a dictionary per animal\n",
    "category = [\"Mother\", \"Virgin\"]\n",
    "transition_paths_dict = load_transition_paths_dict(transition_path_export_dir, mouse_ids, days)"
   ]
  },
  {
   "cell_type": "code",
   "execution_count": null,
   "metadata": {},
   "outputs": [],
   "source": [
    "transition_paths_dict.keys()"
   ]
  },
  {
   "cell_type": "code",
   "execution_count": null,
   "metadata": {},
   "outputs": [],
   "source": [
    "dict_transition_matrices = BA.create_transition_matrices_from_transition_paths(mouse_ids, days, transition_paths_dict)"
   ]
  },
  {
   "cell_type": "code",
   "execution_count": null,
   "metadata": {},
   "outputs": [],
   "source": [
    "# Create a figure with 2 rows and 6 columns\n",
    "\n",
    "# Get list of categories and days\n",
    "categories = list(dict_transition_matrices.keys())\n",
    "days = list(dict_transition_matrices[categories[0]].keys())\n",
    "\n",
    "######    Individual plots    #######\n",
    "for category in categories:\n",
    "    for day in days:\n",
    "        if day in dict_transition_matrices[category]:\n",
    "            BA.plot_transition_graph(dict_transition_matrices[category][day], \n",
    "                                title=f\"{category} - session {day}\", ax=None)\n",
    "        else:\n",
    "            plt.title(f\"{category} - session {day}\\n(No data)\")\n",
    "\n",
    "fig, axs = plt.subplots(2, 6, figsize=(50, 15))\n",
    "\n",
    "#####    Plot each graph on a grid    #######\n",
    "for i, category in enumerate(categories):\n",
    "    for j, day in enumerate(days):\n",
    "        \n",
    "        axs[i, j].clear()\n",
    "        axs[i, j].axis('off')\n",
    "\n",
    "        if day in dict_transition_matrices[category]:\n",
    "            BA.plot_transition_graph(dict_transition_matrices[category][day],title=f\"{category} - session {day}\", ax=axs[i,j])\n",
    "\n",
    "plt.tight_layout()\n",
    "plt.show()"
   ]
  },
  {
   "cell_type": "markdown",
   "metadata": {},
   "source": []
  }
 ],
 "metadata": {
  "kernelspec": {
   "display_name": "env",
   "language": "python",
   "name": "python3"
  },
  "language_info": {
   "codemirror_mode": {
    "name": "ipython",
    "version": 3
   },
   "file_extension": ".py",
   "mimetype": "text/x-python",
   "name": "python",
   "nbconvert_exporter": "python",
   "pygments_lexer": "ipython3",
   "version": "3.8.0"
  }
 },
 "nbformat": 4,
 "nbformat_minor": 2
}
