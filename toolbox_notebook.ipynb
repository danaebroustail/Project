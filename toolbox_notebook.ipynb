{
 "cells": [
  {
   "cell_type": "code",
   "execution_count": 1,
   "metadata": {},
   "outputs": [],
   "source": [
    "import pandas as pd\n",
    "import numpy as np\n",
    "import matplotlib.pyplot as plt\n",
    "import os\n",
    "from DataLoader import DataLoader\n",
    "import datetime\n",
    "import random\n",
    "import warnings\n",
    "from BehaviourFeatureExtractor import compute_speed, compute_head_angle_to_pup, compute_distance_to_pup, extract_base_parameters, plot_mouse_angle_to_pup, convert_seconds_to_frame"
   ]
  },
  {
   "cell_type": "markdown",
   "metadata": {},
   "source": [
    "## Reading and loading data ##"
   ]
  },
  {
   "cell_type": "code",
   "execution_count": 2,
   "metadata": {},
   "outputs": [
    {
     "name": "stdout",
     "output_type": "stream",
     "text": [
      "Found items ['.DS_Store', 'MBI5335RR'] at directory data\n",
      "Found items ['.DS_Store', 'MBI5335RR_240309_d6', 'MBI5335RR_240305_d2', 'MBI5335RR_240304_d1', 'MBI5335RR_240308_d5', 'MBI5335RR_240306_d3', 'MBI5335RR_240307_d4'] at directory data/MBI5335RR\n",
      "Found items ['MBI5335RR_240309_d6_Avisoft', 'MBI5335RR_240309_d6_Behavior'] at directory data/MBI5335RR/MBI5335RR_240309_d6\n",
      "Found items ['MBI5335RR_240309_d6_Avisoft_concatenated 2024-04-21  2_08 PM_Stats_SYNCCORRECTED.xlsx'] at directory data/MBI5335RR/MBI5335RR_240309_d6/MBI5335RR_240309_d6_Avisoft\n",
      "Found items ['MBI5335RR_d6DLC_resnet50_ESM-maternal-learningJun18shuffle1_100000.csv', 'MBI5335RR_240309_d6_BehavSummary.csv'] at directory data/MBI5335RR/MBI5335RR_240309_d6/MBI5335RR_240309_d6_Behavior\n",
      "Found items ['MBI5335RR_240305_d2_Behavior', 'MBI5335RR_240305_d2_Avisoft'] at directory data/MBI5335RR/MBI5335RR_240305_d2\n",
      "Found items ['MBI5335RR_240305_d2_BehavSummary.csv', 'MBI5335RR_d2DLC_resnet50_ESM-maternal-learningJun18shuffle1_100000.csv'] at directory data/MBI5335RR/MBI5335RR_240305_d2/MBI5335RR_240305_d2_Behavior\n",
      "Found items ['MBI5335RR_240305_d2_Avisoft_concatenated 2024-04-19 11_58 AM_Stats_SYNCCORRECTED.xlsx'] at directory data/MBI5335RR/MBI5335RR_240305_d2/MBI5335RR_240305_d2_Avisoft\n",
      "Found items ['MBI5335RR_240304_d1_Avisoft', 'MBI5335RR_240304_d1_Behavior', 'MBI5335RR_d1.mp4'] at directory data/MBI5335RR/MBI5335RR_240304_d1\n",
      "Found items ['T0000001 2024-04-19 11_01 AM_Stats_SYNCCORRECTED.xlsx'] at directory data/MBI5335RR/MBI5335RR_240304_d1/MBI5335RR_240304_d1_Avisoft\n",
      "Found items ['MBI5335RR_d1DLC_resnet50_ESM-maternal-learningJun18shuffle1_100000.csv', 'MBI5335RR_240304_d1_BehavSummary.csv'] at directory data/MBI5335RR/MBI5335RR_240304_d1/MBI5335RR_240304_d1_Behavior\n",
      "Found items ['MBI5335RR_240308_d5_Avisoft', 'MBI5335RR_240308_d5_Behavior'] at directory data/MBI5335RR/MBI5335RR_240308_d5\n",
      "Found items ['T0000001 2024-04-21  1_22 PM_Stats_SYNCCORRECTED.xlsx'] at directory data/MBI5335RR/MBI5335RR_240308_d5/MBI5335RR_240308_d5_Avisoft\n",
      "Found items ['MBI5335RR_d5DLC_resnet50_ESM-maternal-learningJun18shuffle1_100000.csv', 'MBI5335RR_240308_d5_BehavSummary.csv'] at directory data/MBI5335RR/MBI5335RR_240308_d5/MBI5335RR_240308_d5_Behavior\n",
      "Found items ['MBI5335RR_240306_d3_Behavior', 'MBI5335RR_240306_d3_Avisoft'] at directory data/MBI5335RR/MBI5335RR_240306_d3\n",
      "Found items ['MBI5335RR_240306_d3_BehavSummary.csv', 'MBI5335RR_d3DLC_resnet50_ESM-maternal-learningJun18shuffle1_100000.csv'] at directory data/MBI5335RR/MBI5335RR_240306_d3/MBI5335RR_240306_d3_Behavior\n",
      "Found items ['MBI5335RR_240306_d3_Avisoft_concatenated 2024-04-19  1_12 PM_Stats_SYNCCORRECTED.xlsx'] at directory data/MBI5335RR/MBI5335RR_240306_d3/MBI5335RR_240306_d3_Avisoft\n",
      "Found items ['MBI5335RR_240307_d4_Avisoft', 'MBI5335RR_240307_d4_Behavior'] at directory data/MBI5335RR/MBI5335RR_240307_d4\n",
      "Found items ['T0000001 2024-04-21 12_35 PM_Stats_SYNCCORRECTED.xlsx'] at directory data/MBI5335RR/MBI5335RR_240307_d4/MBI5335RR_240307_d4_Avisoft\n",
      "Found items ['MBI5335RR_d4DLC_resnet50_ESM-maternal-learningJun18shuffle1_100000.csv', 'MBI5335RR_240307_d4_BehavSummary.csv'] at directory data/MBI5335RR/MBI5335RR_240307_d4/MBI5335RR_240307_d4_Behavior\n"
     ]
    }
   ],
   "source": [
    "data_dir = \"data\"\n",
    "DL = DataLoader(data_dir)"
   ]
  },
  {
   "cell_type": "markdown",
   "metadata": {},
   "source": [
    "## Data Exploration ##"
   ]
  },
  {
   "cell_type": "markdown",
   "metadata": {},
   "source": [
    "##### Day 1 trials #####"
   ]
  },
  {
   "cell_type": "code",
   "execution_count": 3,
   "metadata": {},
   "outputs": [],
   "source": [
    "# get data for d1 experiment\n",
    "day1_data = DL.get_data_for_experiment(mouse_id = \"MBI5335RR\",\n",
    "                                       day = \"d1\")\n",
    "\n",
    "# fill out dataframes\n",
    "df_summary = day1_data['Behavior']['df_summary']\n",
    "df_DLC = day1_data['Behavior']['df_dlc']"
   ]
  },
  {
   "cell_type": "code",
   "execution_count": null,
   "metadata": {},
   "outputs": [],
   "source": [
    "# create a grid of 1 x 2 plots\n",
    "fig, ax = plt.subplots(1, 1, figsize=(6, 6))\n",
    "\n",
    "ylim = max(df_DLC['msTop_y'].max(), df_DLC['pup_y'].max())\n",
    "xlim = max(df_DLC['msTop_x'].max(), df_DLC['pup_x'].max())\n",
    "\n",
    "# color the points with the time\n",
    "df_DLC.iloc[1000:1500].plot(x='msTop_x', y='msTop_y', style='o', ax=ax, xlim=(0, xlim), ylim=(0, ylim), color = 'r')\n",
    "df_DLC.iloc[1000:1500].plot(x='pup_x', y='pup_y', style='o', ax=ax,xlim=(0, xlim), ylim=(0, ylim), color = 'b')\n"
   ]
  },
  {
   "cell_type": "code",
   "execution_count": null,
   "metadata": {},
   "outputs": [],
   "source": [
    "df_summary.head(3)\n",
    "# find dtype of each column\n",
    "#df_summary.dtypes"
   ]
  },
  {
   "cell_type": "code",
   "execution_count": null,
   "metadata": {},
   "outputs": [],
   "source": [
    "df_DLC.head(3)\n",
    "#df_DLC[\"time_seconds\"]*30"
   ]
  },
  {
   "cell_type": "markdown",
   "metadata": {},
   "source": [
    "## Feature Extraction ##"
   ]
  },
  {
   "cell_type": "markdown",
   "metadata": {},
   "source": [
    "### BehavSummary + DLC  ###"
   ]
  },
  {
   "cell_type": "markdown",
   "metadata": {},
   "source": [
    "- **BehavSummary + DLC**\n",
    "    - Define behavioral windows (e.g: -2 to +2 seconds of each behavioral event)\n",
    "    - Define behavioral windows pre-event (e.g: -x to 0 seconds of each behavioral event)\n",
    "    - Find behavioral events (from BehavSummaries; *timing info*) in the DLC position data (*x,y info*):\n",
    "        - at each behavioral event, where was the mouse and the pup located in the arena?\n",
    "            - how far was the mouse from the pup?\n",
    "            - what was the head direction of the mouse (towards the pup) at that point?\n",
    "            - ‘approach’ trajectory: parse out trajectory of mouse towards pup and try to find a segment which is more ‘direct’/ higher speed\n",
    "        - For the pre-event behavioral window of MouseFirstPickUpSecs: what is the speed of the mouse? What is the head direction of the mouse?"
   ]
  },
  {
   "cell_type": "code",
   "execution_count": 4,
   "metadata": {},
   "outputs": [
    {
     "name": "stdout",
     "output_type": "stream",
     "text": [
      "BehavRecdTrialEndSecs frame index 11538\n",
      "PupDispDropSecs frame index 11072\n",
      "MouseFirstPickUpPupSecs frame index 11468\n",
      "DropPupNestSecs frame index 11538\n"
     ]
    }
   ],
   "source": [
    "trial_1 = df_summary[df_summary['TrialNum'] == 1]\n",
    "\n",
    "trial_1\n",
    "\n",
    "BehavRecdTrialEndSecs = trial_1['BehavRecdTrialEndSecs'].values[0]\n",
    "PupDispDropSecs = trial_1['PupDispDropSecs'].values[0]\n",
    "MouseFirstPickUpPupSecs = trial_1['MouseFirstPickUpPupSecs'].values[0]\n",
    "DropPupNestSecs = trial_1['DropPupNestSecs'].values[0]\n",
    "\n",
    "# compute frame indices by rounding\n",
    "BehavRecdTrialEndSecs_frame = convert_seconds_to_frame(BehavRecdTrialEndSecs)\n",
    "PupDispDropSecs_frame = convert_seconds_to_frame(PupDispDropSecs)\n",
    "MouseFirstPickUpPupSecs_frame = convert_seconds_to_frame(MouseFirstPickUpPupSecs)\n",
    "DropPupNestSecs_frame = convert_seconds_to_frame(DropPupNestSecs)\n",
    "\n",
    " # print all the times\n",
    "print(\"BehavRecdTrialEndSecs\", \"frame index\",  BehavRecdTrialEndSecs_frame)\n",
    "print(\"PupDispDropSecs\", \"frame index\", PupDispDropSecs_frame)\n",
    "print(\"MouseFirstPickUpPupSecs\", \"frame index\", MouseFirstPickUpPupSecs_frame)\n",
    "print(\"DropPupNestSecs\", \"frame index\",  DropPupNestSecs_frame)"
   ]
  },
  {
   "cell_type": "code",
   "execution_count": 6,
   "metadata": {},
   "outputs": [
    {
     "name": "stdout",
     "output_type": "stream",
     "text": [
      "Start time in seconds: 0:06:09.066667\n",
      "End time in seconds: 0:06:24.600000\n"
     ]
    }
   ],
   "source": [
    "start_frame = PupDispDropSecs_frame\n",
    "end_frame = BehavRecdTrialEndSecs_frame\n",
    "\n",
    "# print corresponding time in minutes\n",
    "print(\"Start time in seconds:\", str(datetime.timedelta(seconds=start_frame/30)))\n",
    "print(\"End time in seconds:\", str(datetime.timedelta(seconds=end_frame/30)))\n",
    "\n",
    "# look at the dataframe with frame_index within in the window\n",
    "mask = (df_DLC['frame_index'] >= start_frame) & (df_DLC['frame_index'] <= end_frame)\n",
    "trial_1_DLC = df_DLC[mask]"
   ]
  },
  {
   "cell_type": "code",
   "execution_count": null,
   "metadata": {},
   "outputs": [],
   "source": [
    "trial_1_DLC.head(3)"
   ]
  },
  {
   "cell_type": "markdown",
   "metadata": {},
   "source": [
    "Display full trial"
   ]
  },
  {
   "cell_type": "code",
   "execution_count": null,
   "metadata": {},
   "outputs": [],
   "source": [
    "# plot mouse and pup positions\n",
    "fig, ax = plt.subplots(1, 1, figsize=(6, 6))\n",
    "\n",
    "xlim, ylim =  max(df_DLC['msTop_x'].max(), df_DLC['pup_x'].max()), max(df_DLC['msTop_y'].max(), df_DLC['pup_y'].max())\n",
    "\n",
    "trial_1_DLC.plot(x='msTop_x', y='msTop_y', style='o', ax=ax, xlim=(0, xlim), ylim=(0, ylim), color = 'r')\n",
    "trial_1_DLC.plot(x='pup_x', y='pup_y', style='o', ax=ax,xlim=(0, xlim), ylim=(0, ylim), color = 'b')"
   ]
  },
  {
   "cell_type": "markdown",
   "metadata": {},
   "source": [
    "Speed"
   ]
  },
  {
   "cell_type": "code",
   "execution_count": 13,
   "metadata": {},
   "outputs": [
    {
     "data": {
      "text/plain": [
       "<matplotlib.legend.Legend at 0x7fa4e9fc7c10>"
      ]
     },
     "execution_count": 13,
     "metadata": {},
     "output_type": "execute_result"
    },
    {
     "data": {
      "image/png": "[encoded data removed]",
      "text/plain": [
       "<Figure size 1200x600 with 2 Axes>"
      ]
     },
     "metadata": {},
     "output_type": "display_data"
    }
   ],
   "source": [
    "mouse_speed_col = 'mouse_speed_px/s'\n",
    "pup_speed_col = 'pup_speed_px/s'\n",
    "trial_1_DLC = compute_speed(trial_1_DLC, x_col = 'msTop_x', y_col = 'msTop_y', speed_col = mouse_speed_col)\n",
    "trial_1_DLC = compute_speed(trial_1_DLC, x_col = 'pup_x', y_col = 'pup_y', speed_col = pup_speed_col)\n",
    "\n",
    "# create a grid of 2 histogram plots one for mouse speed and one for pup speed\n",
    "fig, ax = plt.subplots(1, 2, figsize=(12, 6))\n",
    "# histogram of speed\n",
    "\n",
    "trial_1_DLC[mouse_speed_col].hist(bins=50, ax=ax[0], label = 'mouse speed')\n",
    "trial_1_DLC[pup_speed_col].hist(bins=50, ax=ax[0], label = 'pup speed')\n",
    "ax[0].set_title('Mouse and pup speed')  # set title\n",
    "ax[0].legend()  # show legend\n",
    "\n",
    "# histogram of speed\n",
    "trial_1_DLC.plot(x='frame_index', y=mouse_speed_col, ax=ax[1], label = 'mouse speed')\n",
    "trial_1_DLC.plot(x='frame_index', y=pup_speed_col, ax=ax[1], label = 'pup speed')\n",
    "\n",
    "ax[1].set_title('Speed histogram')  # set title\n",
    "ax[1].legend()  # show legend\n"
   ]
  },
  {
   "cell_type": "markdown",
   "metadata": {},
   "source": [
    "Distance to pup"
   ]
  },
  {
   "cell_type": "code",
   "execution_count": 12,
   "metadata": {},
   "outputs": [
    {
     "data": {
      "text/plain": [
       "Text(0.5, 1.0, 'Distance to pup')"
      ]
     },
     "execution_count": 12,
     "metadata": {},
     "output_type": "execute_result"
    },
    {
     "data": {
      "image/png": "[encoded data removed]",
      "text/plain": [
       "<Figure size 1200x600 with 1 Axes>"
      ]
     },
     "metadata": {},
     "output_type": "display_data"
    }
   ],
   "source": [
    "distance_mouse_to_pup = 'distance_mouse_to_pup'\n",
    "distance_head_to_pup = 'distance_head_to_pup'\n",
    "\n",
    "head_x_col, head_y_col = 'endHeadbar_x','endHeadbar_y'\n",
    "\n",
    "trial_1_DLC = compute_distance_to_pup(trial_1_DLC, distance_col = distance_mouse_to_pup)\n",
    "trial_1_DLC = compute_distance_to_pup(trial_1_DLC, distance_col = distance_head_to_pup, x_col = head_x_col, y_col = head_y_col)\n",
    "\n",
    "fig, ax = plt.subplots(1, 1, figsize=(12, 6))\n",
    "\n",
    "trial_1_DLC[distance_mouse_to_pup].hist(bins=20, ax=ax, label = 'mouse')\n",
    "trial_1_DLC[distance_head_to_pup].hist(bins=20, ax=ax, label = 'head')\n",
    "\n",
    "ax.legend()\n",
    "\n",
    "ax.set_title('Distance to pup')  # set title"
   ]
  },
  {
   "cell_type": "markdown",
   "metadata": {},
   "source": [
    "Head angle to pup"
   ]
  },
  {
   "cell_type": "code",
   "execution_count": 14,
   "metadata": {},
   "outputs": [
    {
     "data": {
      "text/plain": [
       "<Axes: >"
      ]
     },
     "execution_count": 14,
     "metadata": {},
     "output_type": "execute_result"
    },
    {
     "data": {
      "image/png": "[encoded data removed]",
      "text/plain": [
       "<Figure size 640x480 with 1 Axes>"
      ]
     },
     "metadata": {},
     "output_type": "display_data"
    }
   ],
   "source": [
    "head_angle_to_pup_col = 'head_angle_to_pup_degrees'\n",
    "\n",
    "trial_1_DLC = compute_head_angle_to_pup(trial_1_DLC, add_vector_columns = True, head_angle_to_pup_col=head_angle_to_pup_col)\n",
    "\n",
    "trial_1_DLC[head_angle_to_pup_col].hist(bins=20)"
   ]
  },
  {
   "cell_type": "markdown",
   "metadata": {},
   "source": [
    "Visualize head angle to pup"
   ]
  },
  {
   "cell_type": "code",
   "execution_count": 15,
   "metadata": {},
   "outputs": [
    {
     "data": {
      "image/png": "[encoded data removed]",
      "text/plain": [
       "<Figure size 600x600 with 1 Axes>"
      ]
     },
     "metadata": {},
     "output_type": "display_data"
    }
   ],
   "source": [
    "plot_mouse_angle_to_pup(trial_1_DLC, ylim = 300 , xlim = 600)"
   ]
  },
  {
   "cell_type": "markdown",
   "metadata": {},
   "source": [
    "Process full file (df_DLC)"
   ]
  },
  {
   "cell_type": "code",
   "execution_count": 16,
   "metadata": {},
   "outputs": [
    {
     "name": "stdout",
     "output_type": "stream",
     "text": [
      "Processing trial 1 Start frame: 11072 End frame: 11538\n",
      "Processing trial 2 Start frame: 11901 End frame: 12085\n",
      "Processing trial 3 Start frame: 12456 End frame: 14848\n",
      "Processing trial 4 Start frame: 15232 End frame: 15940\n",
      "Processing trial 5 Start frame: 16418 End frame: 19682\n",
      "Processing trial 6 Start frame: 19972 End frame: 20270\n",
      "Processing trial 7 Start frame: 20600 End frame: 20923\n",
      "Processing trial 8 Start frame: 21386 End frame: 21866\n",
      "Processing trial 9 Start frame: 22212 End frame: 24358\n",
      "Processing trial 10 Start frame: 24884 End frame: 25584\n"
     ]
    }
   ],
   "source": [
    "df_DLC_updated = extract_base_parameters(df_DLC, df_summary)"
   ]
  },
  {
   "cell_type": "code",
   "execution_count": 17,
   "metadata": {},
   "outputs": [
    {
     "data": {
      "text/html": [
       "<div>\n",
       "<style scoped>\n",
       "    .dataframe tbody tr th:only-of-type {\n",
       "        vertical-align: middle;\n",
       "    }\n",
       "\n",
       "    .dataframe tbody tr th {\n",
       "        vertical-align: top;\n",
       "    }\n",
       "\n",
       "    .dataframe thead th {\n",
       "        text-align: right;\n",
       "    }\n",
       "</style>\n",
       "<table border=\"1\" class=\"dataframe\">\n",
       "  <thead>\n",
       "    <tr style=\"text-align: right;\">\n",
       "      <th></th>\n",
       "      <th>frame_index</th>\n",
       "      <th>time_seconds</th>\n",
       "      <th>msTop_x</th>\n",
       "      <th>msTop_y</th>\n",
       "      <th>msTop_likelihood</th>\n",
       "      <th>endHeadbar_x</th>\n",
       "      <th>endHeadbar_y</th>\n",
       "      <th>endHeadbar_likelihood</th>\n",
       "      <th>earRight_x</th>\n",
       "      <th>earRight_y</th>\n",
       "      <th>...</th>\n",
       "      <th>centerNest_y</th>\n",
       "      <th>centerNest_likelihood</th>\n",
       "      <th>pup_x</th>\n",
       "      <th>pup_y</th>\n",
       "      <th>pup_likelihood</th>\n",
       "      <th>ms_speed_px/s</th>\n",
       "      <th>pup_speed_px/s</th>\n",
       "      <th>distance_head_to_pup</th>\n",
       "      <th>distance_mouse_to_pup</th>\n",
       "      <th>head_angle_to_pup_degrees</th>\n",
       "    </tr>\n",
       "  </thead>\n",
       "  <tbody>\n",
       "    <tr>\n",
       "      <th>151</th>\n",
       "      <td>151</td>\n",
       "      <td>5.033333</td>\n",
       "      <td>170.865509</td>\n",
       "      <td>89.811813</td>\n",
       "      <td>0.961542</td>\n",
       "      <td>190.735977</td>\n",
       "      <td>79.387955</td>\n",
       "      <td>0.943847</td>\n",
       "      <td>174.400299</td>\n",
       "      <td>80.521759</td>\n",
       "      <td>...</td>\n",
       "      <td>57.566437</td>\n",
       "      <td>0.910896</td>\n",
       "      <td>477.403198</td>\n",
       "      <td>251.108810</td>\n",
       "      <td>0.074489</td>\n",
       "      <td>NaN</td>\n",
       "      <td>NaN</td>\n",
       "      <td>NaN</td>\n",
       "      <td>NaN</td>\n",
       "      <td>NaN</td>\n",
       "    </tr>\n",
       "    <tr>\n",
       "      <th>152</th>\n",
       "      <td>152</td>\n",
       "      <td>5.066667</td>\n",
       "      <td>170.884583</td>\n",
       "      <td>89.919662</td>\n",
       "      <td>0.960909</td>\n",
       "      <td>190.975998</td>\n",
       "      <td>79.499725</td>\n",
       "      <td>0.941302</td>\n",
       "      <td>174.574753</td>\n",
       "      <td>80.326324</td>\n",
       "      <td>...</td>\n",
       "      <td>57.520256</td>\n",
       "      <td>0.904566</td>\n",
       "      <td>477.380341</td>\n",
       "      <td>251.101379</td>\n",
       "      <td>0.074293</td>\n",
       "      <td>NaN</td>\n",
       "      <td>NaN</td>\n",
       "      <td>NaN</td>\n",
       "      <td>NaN</td>\n",
       "      <td>NaN</td>\n",
       "    </tr>\n",
       "    <tr>\n",
       "      <th>153</th>\n",
       "      <td>153</td>\n",
       "      <td>5.100000</td>\n",
       "      <td>170.883240</td>\n",
       "      <td>90.323051</td>\n",
       "      <td>0.961621</td>\n",
       "      <td>191.376846</td>\n",
       "      <td>80.730232</td>\n",
       "      <td>0.936073</td>\n",
       "      <td>174.205078</td>\n",
       "      <td>80.630722</td>\n",
       "      <td>...</td>\n",
       "      <td>57.570263</td>\n",
       "      <td>0.890773</td>\n",
       "      <td>477.362000</td>\n",
       "      <td>251.079193</td>\n",
       "      <td>0.073658</td>\n",
       "      <td>NaN</td>\n",
       "      <td>NaN</td>\n",
       "      <td>NaN</td>\n",
       "      <td>NaN</td>\n",
       "      <td>NaN</td>\n",
       "    </tr>\n",
       "    <tr>\n",
       "      <th>154</th>\n",
       "      <td>154</td>\n",
       "      <td>5.133333</td>\n",
       "      <td>170.926773</td>\n",
       "      <td>90.564362</td>\n",
       "      <td>0.961369</td>\n",
       "      <td>191.282913</td>\n",
       "      <td>80.673759</td>\n",
       "      <td>0.933111</td>\n",
       "      <td>174.103851</td>\n",
       "      <td>80.784721</td>\n",
       "      <td>...</td>\n",
       "      <td>55.338409</td>\n",
       "      <td>0.897453</td>\n",
       "      <td>477.296814</td>\n",
       "      <td>251.060013</td>\n",
       "      <td>0.073508</td>\n",
       "      <td>NaN</td>\n",
       "      <td>NaN</td>\n",
       "      <td>NaN</td>\n",
       "      <td>NaN</td>\n",
       "      <td>NaN</td>\n",
       "    </tr>\n",
       "    <tr>\n",
       "      <th>155</th>\n",
       "      <td>155</td>\n",
       "      <td>5.166667</td>\n",
       "      <td>170.918793</td>\n",
       "      <td>90.485443</td>\n",
       "      <td>0.962388</td>\n",
       "      <td>191.297684</td>\n",
       "      <td>80.754738</td>\n",
       "      <td>0.930888</td>\n",
       "      <td>174.123138</td>\n",
       "      <td>80.792427</td>\n",
       "      <td>...</td>\n",
       "      <td>55.659248</td>\n",
       "      <td>0.909907</td>\n",
       "      <td>477.293640</td>\n",
       "      <td>251.065277</td>\n",
       "      <td>0.073560</td>\n",
       "      <td>NaN</td>\n",
       "      <td>NaN</td>\n",
       "      <td>NaN</td>\n",
       "      <td>NaN</td>\n",
       "      <td>NaN</td>\n",
       "    </tr>\n",
       "    <tr>\n",
       "      <th>...</th>\n",
       "      <td>...</td>\n",
       "      <td>...</td>\n",
       "      <td>...</td>\n",
       "      <td>...</td>\n",
       "      <td>...</td>\n",
       "      <td>...</td>\n",
       "      <td>...</td>\n",
       "      <td>...</td>\n",
       "      <td>...</td>\n",
       "      <td>...</td>\n",
       "      <td>...</td>\n",
       "      <td>...</td>\n",
       "      <td>...</td>\n",
       "      <td>...</td>\n",
       "      <td>...</td>\n",
       "      <td>...</td>\n",
       "      <td>...</td>\n",
       "      <td>...</td>\n",
       "      <td>...</td>\n",
       "      <td>...</td>\n",
       "      <td>...</td>\n",
       "    </tr>\n",
       "    <tr>\n",
       "      <th>26036</th>\n",
       "      <td>26036</td>\n",
       "      <td>867.866667</td>\n",
       "      <td>209.939117</td>\n",
       "      <td>77.639259</td>\n",
       "      <td>0.145247</td>\n",
       "      <td>209.055069</td>\n",
       "      <td>75.931168</td>\n",
       "      <td>0.016676</td>\n",
       "      <td>210.217743</td>\n",
       "      <td>76.130127</td>\n",
       "      <td>...</td>\n",
       "      <td>71.425491</td>\n",
       "      <td>0.994742</td>\n",
       "      <td>480.212799</td>\n",
       "      <td>250.406647</td>\n",
       "      <td>0.063795</td>\n",
       "      <td>NaN</td>\n",
       "      <td>NaN</td>\n",
       "      <td>NaN</td>\n",
       "      <td>NaN</td>\n",
       "      <td>NaN</td>\n",
       "    </tr>\n",
       "    <tr>\n",
       "      <th>26037</th>\n",
       "      <td>26037</td>\n",
       "      <td>867.900000</td>\n",
       "      <td>207.269028</td>\n",
       "      <td>76.809303</td>\n",
       "      <td>0.025151</td>\n",
       "      <td>208.071136</td>\n",
       "      <td>76.504684</td>\n",
       "      <td>0.009770</td>\n",
       "      <td>209.278519</td>\n",
       "      <td>76.249054</td>\n",
       "      <td>...</td>\n",
       "      <td>68.849236</td>\n",
       "      <td>0.995682</td>\n",
       "      <td>480.212860</td>\n",
       "      <td>250.405945</td>\n",
       "      <td>0.064049</td>\n",
       "      <td>NaN</td>\n",
       "      <td>NaN</td>\n",
       "      <td>NaN</td>\n",
       "      <td>NaN</td>\n",
       "      <td>NaN</td>\n",
       "    </tr>\n",
       "    <tr>\n",
       "      <th>26038</th>\n",
       "      <td>26038</td>\n",
       "      <td>867.933333</td>\n",
       "      <td>208.179184</td>\n",
       "      <td>81.363785</td>\n",
       "      <td>0.282739</td>\n",
       "      <td>206.524475</td>\n",
       "      <td>80.659828</td>\n",
       "      <td>0.024828</td>\n",
       "      <td>208.075089</td>\n",
       "      <td>80.550095</td>\n",
       "      <td>...</td>\n",
       "      <td>72.999992</td>\n",
       "      <td>0.991961</td>\n",
       "      <td>480.213226</td>\n",
       "      <td>250.405502</td>\n",
       "      <td>0.064019</td>\n",
       "      <td>NaN</td>\n",
       "      <td>NaN</td>\n",
       "      <td>NaN</td>\n",
       "      <td>NaN</td>\n",
       "      <td>NaN</td>\n",
       "    </tr>\n",
       "    <tr>\n",
       "      <th>26039</th>\n",
       "      <td>26039</td>\n",
       "      <td>867.966667</td>\n",
       "      <td>209.563736</td>\n",
       "      <td>83.124634</td>\n",
       "      <td>0.252159</td>\n",
       "      <td>220.156143</td>\n",
       "      <td>78.939888</td>\n",
       "      <td>0.029228</td>\n",
       "      <td>208.904358</td>\n",
       "      <td>81.995323</td>\n",
       "      <td>...</td>\n",
       "      <td>73.347084</td>\n",
       "      <td>0.981267</td>\n",
       "      <td>480.216187</td>\n",
       "      <td>250.406601</td>\n",
       "      <td>0.063996</td>\n",
       "      <td>NaN</td>\n",
       "      <td>NaN</td>\n",
       "      <td>NaN</td>\n",
       "      <td>NaN</td>\n",
       "      <td>NaN</td>\n",
       "    </tr>\n",
       "    <tr>\n",
       "      <th>26040</th>\n",
       "      <td>26040</td>\n",
       "      <td>868.000000</td>\n",
       "      <td>210.321472</td>\n",
       "      <td>83.696930</td>\n",
       "      <td>0.051937</td>\n",
       "      <td>220.745575</td>\n",
       "      <td>79.040428</td>\n",
       "      <td>0.016427</td>\n",
       "      <td>209.122681</td>\n",
       "      <td>82.611824</td>\n",
       "      <td>...</td>\n",
       "      <td>73.608047</td>\n",
       "      <td>0.976373</td>\n",
       "      <td>480.046143</td>\n",
       "      <td>250.338409</td>\n",
       "      <td>0.062937</td>\n",
       "      <td>NaN</td>\n",
       "      <td>NaN</td>\n",
       "      <td>NaN</td>\n",
       "      <td>NaN</td>\n",
       "      <td>NaN</td>\n",
       "    </tr>\n",
       "  </tbody>\n",
       "</table>\n",
       "<p>25890 rows × 31 columns</p>\n",
       "</div>"
      ],
      "text/plain": [
       "       frame_index  time_seconds     msTop_x    msTop_y  msTop_likelihood  \\\n",
       "151            151      5.033333  170.865509  89.811813          0.961542   \n",
       "152            152      5.066667  170.884583  89.919662          0.960909   \n",
       "153            153      5.100000  170.883240  90.323051          0.961621   \n",
       "154            154      5.133333  170.926773  90.564362          0.961369   \n",
       "155            155      5.166667  170.918793  90.485443          0.962388   \n",
       "...            ...           ...         ...        ...               ...   \n",
       "26036        26036    867.866667  209.939117  77.639259          0.145247   \n",
       "26037        26037    867.900000  207.269028  76.809303          0.025151   \n",
       "26038        26038    867.933333  208.179184  81.363785          0.282739   \n",
       "26039        26039    867.966667  209.563736  83.124634          0.252159   \n",
       "26040        26040    868.000000  210.321472  83.696930          0.051937   \n",
       "\n",
       "       endHeadbar_x  endHeadbar_y  endHeadbar_likelihood  earRight_x  \\\n",
       "151      190.735977     79.387955               0.943847  174.400299   \n",
       "152      190.975998     79.499725               0.941302  174.574753   \n",
       "153      191.376846     80.730232               0.936073  174.205078   \n",
       "154      191.282913     80.673759               0.933111  174.103851   \n",
       "155      191.297684     80.754738               0.930888  174.123138   \n",
       "...             ...           ...                    ...         ...   \n",
       "26036    209.055069     75.931168               0.016676  210.217743   \n",
       "26037    208.071136     76.504684               0.009770  209.278519   \n",
       "26038    206.524475     80.659828               0.024828  208.075089   \n",
       "26039    220.156143     78.939888               0.029228  208.904358   \n",
       "26040    220.745575     79.040428               0.016427  209.122681   \n",
       "\n",
       "       earRight_y  ...  centerNest_y  centerNest_likelihood       pup_x  \\\n",
       "151     80.521759  ...     57.566437               0.910896  477.403198   \n",
       "152     80.326324  ...     57.520256               0.904566  477.380341   \n",
       "153     80.630722  ...     57.570263               0.890773  477.362000   \n",
       "154     80.784721  ...     55.338409               0.897453  477.296814   \n",
       "155     80.792427  ...     55.659248               0.909907  477.293640   \n",
       "...           ...  ...           ...                    ...         ...   \n",
       "26036   76.130127  ...     71.425491               0.994742  480.212799   \n",
       "26037   76.249054  ...     68.849236               0.995682  480.212860   \n",
       "26038   80.550095  ...     72.999992               0.991961  480.213226   \n",
       "26039   81.995323  ...     73.347084               0.981267  480.216187   \n",
       "26040   82.611824  ...     73.608047               0.976373  480.046143   \n",
       "\n",
       "            pup_y  pup_likelihood  ms_speed_px/s  pup_speed_px/s  \\\n",
       "151    251.108810        0.074489            NaN             NaN   \n",
       "152    251.101379        0.074293            NaN             NaN   \n",
       "153    251.079193        0.073658            NaN             NaN   \n",
       "154    251.060013        0.073508            NaN             NaN   \n",
       "155    251.065277        0.073560            NaN             NaN   \n",
       "...           ...             ...            ...             ...   \n",
       "26036  250.406647        0.063795            NaN             NaN   \n",
       "26037  250.405945        0.064049            NaN             NaN   \n",
       "26038  250.405502        0.064019            NaN             NaN   \n",
       "26039  250.406601        0.063996            NaN             NaN   \n",
       "26040  250.338409        0.062937            NaN             NaN   \n",
       "\n",
       "       distance_head_to_pup  distance_mouse_to_pup  head_angle_to_pup_degrees  \n",
       "151                     NaN                    NaN                        NaN  \n",
       "152                     NaN                    NaN                        NaN  \n",
       "153                     NaN                    NaN                        NaN  \n",
       "154                     NaN                    NaN                        NaN  \n",
       "155                     NaN                    NaN                        NaN  \n",
       "...                     ...                    ...                        ...  \n",
       "26036                   NaN                    NaN                        NaN  \n",
       "26037                   NaN                    NaN                        NaN  \n",
       "26038                   NaN                    NaN                        NaN  \n",
       "26039                   NaN                    NaN                        NaN  \n",
       "26040                   NaN                    NaN                        NaN  \n",
       "\n",
       "[25890 rows x 31 columns]"
      ]
     },
     "execution_count": 17,
     "metadata": {},
     "output_type": "execute_result"
    }
   ],
   "source": [
    "df_DLC_updated"
   ]
  },
  {
   "cell_type": "markdown",
   "metadata": {},
   "source": [
    "### Behavioural Windows (+/- 2s) around key events ###"
   ]
  },
  {
   "cell_type": "code",
   "execution_count": 17,
   "metadata": {},
   "outputs": [],
   "source": [
    "def extract_feature_behavioural_window(behaviour_col, trial_num, df_DLC, df_summary, window_size = 60):\n",
    "\n",
    "    # get the trial\n",
    "    trial_metadata = df_summary[df_summary['TrialNum'] == trial_num]\n",
    "    BehavRecdTrialEndSecs = trial_metadata['BehavRecdTrialEndSecs'].values[0]\n",
    "\n",
    "    # nan check\n",
    "    if np.isnan(BehavRecdTrialEndSecs):\n",
    "        warnings.warn(\"BehavRecdTrialEndSecs is NaN\")\n",
    "        return None\n",
    "    \n",
    "    end_frame = convert_seconds_to_frame(BehavRecdTrialEndSecs)\n",
    "    start_frame = BehavRecdTrialEndSecs_frame - window_size\n",
    "\n",
    "    pass\n",
    "    # return a slice of the dataframe with the features speed, head_angle, distance to pup, extracted"
   ]
  },
  {
   "cell_type": "markdown",
   "metadata": {},
   "source": [
    "### Pre-event behavioural window (-Xs preceding key event) ###"
   ]
  },
  {
   "cell_type": "code",
   "execution_count": 18,
   "metadata": {},
   "outputs": [],
   "source": [
    "def extract_feature_pre_event_window(behaviour_col, trial_num, df_DLC, df_summary, pre_event_window_size = 100):\n",
    "\n",
    "    pass"
   ]
  },
  {
   "cell_type": "markdown",
   "metadata": {},
   "source": [
    "### Analyzing parameters ###"
   ]
  },
  {
   "cell_type": "code",
   "execution_count": 19,
   "metadata": {},
   "outputs": [],
   "source": [
    "def analyze_trajectory(df_DLC, start_frame, end_frame):\n",
    "    \n",
    "    print(\"Trajectory detected from frame {} to frame {}\".format(start_frame, end_frame))\n",
    "    "
   ]
  },
  {
   "cell_type": "markdown",
   "metadata": {},
   "source": []
  }
 ],
 "metadata": {
  "kernelspec": {
   "display_name": "env",
   "language": "python",
   "name": "python3"
  },
  "language_info": {
   "codemirror_mode": {
    "name": "ipython",
    "version": 3
   },
   "file_extension": ".py",
   "mimetype": "text/x-python",
   "name": "python",
   "nbconvert_exporter": "python",
   "pygments_lexer": "ipython3",
   "version": "3.8.0"
  }
 },
 "nbformat": 4,
 "nbformat_minor": 2
}
